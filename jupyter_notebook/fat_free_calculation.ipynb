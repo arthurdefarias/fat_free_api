{
  "cells": [
    {
      "cell_type": "markdown",
      "source": [
        "**Constantes**"
      ],
      "metadata": {
        "id": "U3QEXFVec6dw"
      }
    },
    {
      "cell_type": "code",
      "source": [
        "import math\n",
        "\n",
        "# Diametro Externo\n",
        "diameter = 0.40 # metros\n",
        "\n",
        "#Espessura do aço\n",
        "steel_thickness = 0.02\n",
        "\n",
        "# Número pi\n",
        "pi_number = math.pi\n",
        "\n",
        "# Comprimento da tubulação (em metros)\n",
        "length = 40\n",
        "\n",
        "# Contribuição da rigidez à flexão do concreto e revestimento (expressa como fração de EI_steel)\n",
        "csf = 0  # Neste caso, não há contribuição adicional de concreto ou revestimento\n",
        "\n",
        "# Rigidez à flexão do aço (EI_steel), dada em N.m²\n",
        "ei = 8.946 * (10 ** 7 )\n",
        "\n",
        "# Constante de Temperatura\n",
        "temperature_coefficient = 0.00017  # Coeficiente de expansão térmica\n",
        "\n",
        "# Modulo de Elasticidade\n",
        "young_modulus = 207 * (10**9)  # Módulo de elasticidade\n",
        "\n",
        "# Coeficiente de Poisson\n",
        "poisson_coefficient = 0.3\n",
        "\n",
        "# Massa Especifica\n",
        "specific_mass_steel = 7850 # Kg/m³\n",
        "specific_mass_water = 1027 # Kg/m³\n",
        "\n",
        "# Constante Gravitacional\n",
        "gravity = 10 # m/s²\n",
        "\n",
        "me = 316.484 # Kg/m"
      ],
      "metadata": {
        "id": "4sB256lpctTb"
      },
      "execution_count": 2,
      "outputs": []
    },
    {
      "cell_type": "markdown",
      "source": [
        "**Força Axial Efetiva**"
      ],
      "metadata": {
        "id": "otmVoIzmD6Ot"
      }
    },
    {
      "cell_type": "code",
      "source": [
        "import math\n",
        "\n",
        "# Tensão axial aplicada durante a instalação da tubulação (N)\n",
        "effective_lay_tension = 90000\n",
        "\n",
        "# Diferença de pressão interna (assumida como zero neste caso)\n",
        "internal_pressure_diff = 0\n",
        "\n",
        "# Cálculo da área da seção transversal da tubulação (m²)\n",
        "cross_sectional_area = pi_number * (diameter ** 2) / 4\n",
        "\n",
        "# Diferença de temperatura entre a instalação e a operação (assumida como zero neste caso)\n",
        "temperature_diff = 0\n",
        "\n",
        "# **Cálculo da força axial efetiva**\n",
        "effective_axial_force = (effective_lay_tension -  # Tensão axial de instalação\n",
        "                        internal_pressure_diff * cross_sectional_area *  # Termo da pressão interna\n",
        "                        (1 - 2 * poisson_coefficient) -  # Ajuste devido ao efeito de Poisson\n",
        "                        cross_sectional_area * young_modulus * temperature_diff)  # Termo da variação térmica\n",
        "\n",
        "print('Força Axial Efetiva: ' + str(effective_axial_force))\n",
        "\n"
      ],
      "metadata": {
        "colab": {
          "base_uri": "https://localhost:8080/"
        },
        "id": "0m7PKkgEDd-G",
        "outputId": "8b6c50bf-8d6b-4860-f663-8b70fae0df2e"
      },
      "execution_count": 3,
      "outputs": [
        {
          "output_type": "stream",
          "name": "stdout",
          "text": [
            "Força Axial Efetiva: 90000.0\n"
          ]
        }
      ]
    },
    {
      "cell_type": "markdown",
      "source": [
        "**Rigidez do Solo**"
      ],
      "metadata": {
        "id": "PDem153fkoat"
      }
    },
    {
      "cell_type": "code",
      "source": [
        "\n",
        "# Effetive Lenght\n",
        "area_pipe = pi_number * (((diameter/2)**2) - (((diameter/2)- steel_thickness)**2))\n",
        "densidade_steel = 7850 #kg/m³\n",
        "ms =  densidade_steel * area_pipe * 40 # mass of the pipe\n",
        "densidade_water = 1027 #kg/m³\n",
        "area_water = pi_number * ((diameter/2) ** 2)\n",
        "m = densidade_water * area_water * 40  #  mass of the displaced water\n",
        "\n",
        "cv = 600000 # vertical dynamic stiffness factor\n",
        "cl = 500000\n",
        "kvs = 75000 #clay\n",
        "ds_per_d = ms/m\n",
        "kvd = (cv/(1-poisson_coefficient))*((2/3)*(ds_per_d) + 1/3)*math.sqrt(diameter)\n",
        "kld = (cl*(1+poisson_coefficient))*((2/3)*(ds_per_d) + 1/3)*math.sqrt(diameter)\n",
        "\n",
        "print(kvd)\n",
        "print(kld)"
      ],
      "metadata": {
        "colab": {
          "base_uri": "https://localhost:8080/"
        },
        "id": "BAXBeJ1ab3mC",
        "outputId": "14337cb4-3c66-4c55-841b-dc34376ef407"
      },
      "execution_count": 51,
      "outputs": [
        {
          "output_type": "stream",
          "name": "stdout",
          "text": [
            "705563.1335248409\n",
            "535052.0429230044\n"
          ]
        }
      ]
    },
    {
      "cell_type": "markdown",
      "source": [
        "**Rigidez do Solo**"
      ],
      "metadata": {
        "id": "kYXzYhd0Yu4k"
      }
    },
    {
      "cell_type": "code",
      "source": [
        "# Definição dos parâmetros de rigidez do solo para argila muito mole (Clay Very Soft)\n",
        "kv = 898000  # N/m/m - Rigidez dinâmica vertical do solo por unidade de comprimento\n",
        "kl = 596800  # N/m/m - Rigidez dinâmica lateral do solo por unidade de comprimento\n",
        "kvs = 75000  # N/m/m - Rigidez estática vertical do solo por unidade de comprimento\n",
        "\n",
        "# Seleção da rigidez do solo utilizada no cálculo\n",
        "k = kv  # Para este cálculo, estamos considerando a rigidez dinâmica vertical"
      ],
      "metadata": {
        "id": "5u2I9EqzY50x"
      },
      "execution_count": 5,
      "outputs": []
    },
    {
      "cell_type": "markdown",
      "source": [
        "**Carga Crítica de Flambagem**\n",
        "\n",
        "\n"
      ],
      "metadata": {
        "id": "9F9GE-TJFFMC"
      }
    },
    {
      "cell_type": "code",
      "execution_count": 9,
      "metadata": {
        "colab": {
          "base_uri": "https://localhost:8080/"
        },
        "id": "KXZgkx-CDbv8",
        "outputId": "c0bc3508-f9f4-4d89-b35d-ca7489a473a6"
      },
      "outputs": [
        {
          "output_type": "stream",
          "name": "stdout",
          "text": [
            "Rigidez dinâmica vertical do solo\n",
            "value_log: 25697.29488039347\n",
            "beta: 4.409887408142516\n",
            "Comprimento Efetivo: 49.21218756105398\n",
            "Carga Crítica de Flambagem: 1458287.95759902\n",
            "Razão entre Força Axial Efetiva e Carga Crítica de Flambagem: 0.06171620600102833\n",
            "\n",
            "Rigidez dinâmica lateral do solo\n",
            "value_log: 17078.113123183546\n",
            "beta: 4.232439885939824\n",
            "Comprimento Efetivo: 50.2550662947168\n",
            "Carga Crítica de Flambagem: 1398391.997845893\n",
            "Razão entre Força Axial Efetiva e Carga Crítica de Flambagem: 0.06435963602383132\n",
            "\n",
            "Rigidez estática vertical do solo\n",
            "value_log: 2146.2105969148224\n",
            "beta: 3.3316723348669113\n",
            "Comprimento Efetivo: 57.408083782216394\n",
            "Carga Crítica de Flambagem: 1071624.2403273375\n",
            "Razão entre Força Axial Efetiva e Carga Crítica de Flambagem: 0.08398466235936271\n",
            "\n"
          ]
        }
      ],
      "source": [
        "def effetive_length(k: int, length: int, csf: int, stiffness: float):\n",
        "\n",
        "  if k == kv:\n",
        "    print('Rigidez dinâmica vertical do solo')\n",
        "\n",
        "  elif k == kl:\n",
        "    print('Rigidez dinâmica lateral do solo')\n",
        "\n",
        "  else:\n",
        "    print('Rigidez estática vertical do solo')\n",
        "\n",
        "  # Cálculo do logaritmo do valor adimensional que influencia o comprimento efetivo\n",
        "  value_log = k * (length ** 4) / ((1 + csf) * stiffness)\n",
        "  print('value_log: ' + str (value_log))\n",
        "\n",
        "  beta = math.log10(value_log)  # Cálculo do logaritmo de base 10 do valor obtido\n",
        "  print('beta: ' + str(beta))  # Exibe o valor de beta\n",
        "\n",
        "  # Cálculo da razão entre o comprimento efetivo e o comprimento total da tubulação\n",
        "  ratio_length_eff = 4.73 / ((-0.066 * (beta ** 2)) + (1.02 * beta) + 0.63)\n",
        "\n",
        "  # Cálculo do comprimento efetivo da tubulação\n",
        "  length_eff = ratio_length_eff * length\n",
        "\n",
        "  print('Comprimento Efetivo: ' + str(length_eff))  # Exibe o comprimento efetivo da tubulação\n",
        "\n",
        "  # Coeficiente de condição de contorno\n",
        "  c2 = 4\n",
        "\n",
        "  # Cálculo da carga crítica de flambagem (Pcr)\n",
        "  pcr = (1 + csf) * c2 * (pi_number ** 2) * stiffness / (length_eff ** 2)\n",
        "\n",
        "  print('Carga Crítica de Flambagem: ' + str(pcr))  # Exibe o valor da carga crítica de flambagem\n",
        "\n",
        "  # Razão entre uma carga específica (90000 N) e a carga crítica de flambagem\n",
        "  print('Razão entre Força Axial Efetiva e Carga Crítica de Flambagem: ' + str(effective_axial_force / pcr))  # Exibe a relação entre a carga axial efetiva e a carga crítica de flambagem\n",
        "  print('')\n",
        "\n",
        "  return length_eff, pcr\n",
        "\n",
        "length_eff_vertical_dynamic, pcr_vertical_dynamic = effetive_length(k=kv, length=length, csf=csf, stiffness=ei)\n",
        "length_eff_lateral_dynamic, pcr_lateral_dynamic = effetive_length(k=kl, length=length, csf=csf, stiffness=ei)\n",
        "length_eff_vertical_static, pcr_vertical_static = effetive_length(k=kvs, length=length, csf=csf, stiffness=ei)\n"
      ]
    },
    {
      "cell_type": "markdown",
      "source": [
        "**Deflexão Estática**"
      ],
      "metadata": {
        "id": "sOb8vezbIarP"
      }
    },
    {
      "cell_type": "code",
      "source": [
        "# Coeficiente c2 de condição de contorno\n",
        "c6 = 1/384\n",
        "\n",
        "# Peso do tubo por unidade de comprimento\n",
        "pipe_weight =  specific_mass_steel * gravity * area_pipe\n",
        "\n",
        "# Cálculo do Empuxo\n",
        "empuxo = specific_mass_water * gravity * area_water\n",
        "\n",
        "# Solicitacao Axial Efetiva\n",
        "seff = effective_axial_force\n",
        "\n",
        "# Peso Submerso por Unidade de Comprimento\n",
        "q = pipe_weight - empuxo\n",
        "\n",
        "# Cálculo da Deflexão Estática\n",
        "deflection = c6 * ((q * (length_eff_vertical_static**4))/(ei * (1 + csf))) * (1 / (1 + seff/pcr_vertical_static))\n",
        "deflection_vertical_dynamic = c6 * ((q * (length_eff_vertical_dynamic**4))/(ei * (1 + csf))) * (1 / (1 + seff/pcr_vertical_dynamic))\n",
        "\n",
        "print('Deflexão: ' + str(deflection))\n",
        "print('Razão entre deflexão e diâmetro: '+ str(deflection/diameter))\n",
        "print('Razão entre deflexão com rigidez do solo vertical dinâmica e diâmetro: '+ str(deflection_vertical_dynamic/diameter))"
      ],
      "metadata": {
        "colab": {
          "base_uri": "https://localhost:8080/"
        },
        "id": "mMvs4ttiIUrZ",
        "outputId": "f58c70d9-aab8-4c61-cb61-65cf0464d057"
      },
      "execution_count": 46,
      "outputs": [
        {
          "output_type": "stream",
          "name": "stdout",
          "text": [
            "1290.566262094687\n",
            "1874.2741771316712\n",
            "Deflexão: 0.17025682498804554\n",
            "Razão entre deflexão e diâmetro: 0.4256420624701138\n",
            "Razão entre deflexão com rigidez do solo vertical dinâmica e diâmetro: 0.23467007307247656\n"
          ]
        }
      ]
    },
    {
      "cell_type": "markdown",
      "source": [
        "**Amplitude máxima de tensão**"
      ],
      "metadata": {
        "id": "I_nyYxFuMG76"
      }
    },
    {
      "cell_type": "code",
      "source": [
        "# Coeficiente C4 de condição de contorno\n",
        "length_eff_list = [length_eff_vertical_dynamic, length_eff_lateral_dynamic, length_eff_vertical_static]\n",
        "\n",
        "for length_eff in length_eff_list:\n",
        "\n",
        "  c4_midspan = 8.6\n",
        "  c4_shouder = 14.1 * ((length/length_eff)**2)\n",
        "  c4 = [c4_midspan, c4_shouder]\n",
        "\n",
        "  if length_eff == length_eff_vertical_dynamic:\n",
        "    name_length_eff = 'Rigidez dinâmica vertical do solo'\n",
        "\n",
        "  elif length_eff == length_eff_lateral_dynamic:\n",
        "    name_length_eff = 'Rigidez dinâmica lateral do solo'\n",
        "\n",
        "  else:\n",
        "     name_length_eff ='Rigidez estática vertical do solo'\n",
        "\n",
        "  for c in c4:\n",
        "\n",
        "    if c == c4_midspan:\n",
        "      name_c = 'midspan'\n",
        "\n",
        "    else:\n",
        "      name_c = 'shouder'\n",
        "\n",
        "    radius_extern = diameter / 2\n",
        "    radius_intern = (diameter - 2*steel_thickness)/2\n",
        "    radius_list = [radius_extern, radius_intern]\n",
        "\n",
        "    for radius in radius_list:\n",
        "\n",
        "      if radius == radius_extern:\n",
        "        print(name_length_eff + ', ' + name_c + ', ' +' raio externo')\n",
        "\n",
        "      else:\n",
        "        print(name_length_eff + ', ' + name_c +', ' + 'raio interno')\n",
        "\n",
        "      amplitude_max_inline = 2 * c * (1 + csf) * diameter * young_modulus * radius / (length_eff ** 2)\n",
        "      #amplitude_max_crossflow = 2 * c * (1 + csf) * diameter * young_modulus * radius / (length_eff ** 2)\n",
        "\n",
        "      print('Amplitude (MPa): ' + str(amplitude_max_inline/1000000))\n",
        "      #print('Amplitude cross-flow (MPa): ' + str(amplitude_max_crossflow/1000000))\n",
        "      print('')"
      ],
      "metadata": {
        "colab": {
          "base_uri": "https://localhost:8080/"
        },
        "id": "WhTmSd-Kj1d6",
        "outputId": "e0cfa22d-c5ad-4b8d-b41f-4cb3cf813340"
      },
      "execution_count": 31,
      "outputs": [
        {
          "output_type": "stream",
          "name": "stdout",
          "text": [
            "Rigidez dinâmica vertical do solo, midspan,  raio externo\n",
            "Amplitude (MPa): 117.60978018011404\n",
            "\n",
            "Rigidez dinâmica vertical do solo, midspan, raio interno\n",
            "Amplitude (MPa): 105.84880216210266\n",
            "\n",
            "Rigidez dinâmica vertical do solo, shouder,  raio externo\n",
            "Amplitude (MPa): 127.3909983694071\n",
            "\n",
            "Rigidez dinâmica vertical do solo, shouder, raio interno\n",
            "Amplitude (MPa): 114.65189853246639\n",
            "\n",
            "Rigidez dinâmica lateral do solo, midspan,  raio externo\n",
            "Amplitude (MPa): 112.77921799688082\n",
            "\n",
            "Rigidez dinâmica lateral do solo, midspan, raio interno\n",
            "Amplitude (MPa): 101.50129619719274\n",
            "\n",
            "Rigidez dinâmica lateral do solo, shouder,  raio externo\n",
            "Amplitude (MPa): 117.1412954443519\n",
            "\n",
            "Rigidez dinâmica lateral do solo, shouder, raio interno\n",
            "Amplitude (MPa): 105.4271658999167\n",
            "\n",
            "Rigidez estática vertical do solo, midspan,  raio externo\n",
            "Amplitude (MPa): 86.42565460671165\n",
            "\n",
            "Rigidez estática vertical do solo, midspan, raio interno\n",
            "Amplitude (MPa): 77.78308914604048\n",
            "\n",
            "Rigidez estática vertical do solo, shouder,  raio externo\n",
            "Amplitude (MPa): 68.7918866028905\n",
            "\n",
            "Rigidez estática vertical do solo, shouder, raio interno\n",
            "Amplitude (MPa): 61.91269794260145\n",
            "\n"
          ]
        }
      ]
    },
    {
      "cell_type": "markdown",
      "source": [
        "**Frequência Natural Fundamental**"
      ],
      "metadata": {
        "id": "fhyv8sYaf3Fu"
      }
    },
    {
      "cell_type": "code",
      "source": [
        "# Boundary condition coefficients\n",
        "c1_inline, c1_crossflow = 3.56, 3.56\n",
        "c3_inline, c3_crossflow = 0, 0.4\n",
        "\n",
        "print ()\n",
        "f_inline = c1_inline * math.sqrt(1 + csf) * math.sqrt(ei/(me * (length_eff_lateral_dynamic ** 4)) * (1 + (seff/pcr_lateral_dynamic) + c3_inline * (deflection/diameter) ** 2))\n",
        "f_crossflow = c1_crossflow * math.sqrt(1 + csf) * math.sqrt(ei/(me * (length_eff_vertical_dynamic ** 4)) * (1 + (seff/pcr_vertical_dynamic) + c3_crossflow * (deflection/diameter) ** 2))\n",
        "\n",
        "print('Frequência na direção in-line (Hz) :'+ str(f_inline))\n",
        "print('Frequência na direção cross-flow (Hz) :'+ str(f_crossflow))"
      ],
      "metadata": {
        "colab": {
          "base_uri": "https://localhost:8080/"
        },
        "id": "YCJ4FZXZf1-1",
        "outputId": "eee2d2cb-11fe-417c-a6ff-5f944946e85d"
      },
      "execution_count": 50,
      "outputs": [
        {
          "output_type": "stream",
          "name": "stdout",
          "text": [
            "\n",
            "Frequência na direção in-line (Hz) :0.7731665616130841\n",
            "Frequência na direção cross-flow (Hz) :0.832309997281435\n"
          ]
        }
      ]
    }
  ],
  "metadata": {
    "kernelspec": {
      "display_name": "env",
      "language": "python",
      "name": "python3"
    },
    "language_info": {
      "codemirror_mode": {
        "name": "ipython",
        "version": 3
      },
      "file_extension": ".py",
      "mimetype": "text/x-python",
      "name": "python",
      "nbconvert_exporter": "python",
      "pygments_lexer": "ipython3",
      "version": "3.12.3"
    },
    "colab": {
      "provenance": []
    }
  },
  "nbformat": 4,
  "nbformat_minor": 0
}