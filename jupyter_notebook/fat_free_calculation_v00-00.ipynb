{
  "cells": [
    {
      "cell_type": "markdown",
      "source": [
        "**Constantes**"
      ],
      "metadata": {
        "id": "U3QEXFVec6dw"
      }
    },
    {
      "cell_type": "code",
      "source": [
        "import math\n",
        "\n",
        "# Diametro Externo\n",
        "diameter = 0.40 # metros\n",
        "\n",
        "#Espessura do aço\n",
        "steel_thickness = 0.02\n",
        "\n",
        "# Número pi\n",
        "pi_number = math.pi\n",
        "\n",
        "# Comprimento da tubulação (em metros)\n",
        "length = 40\n",
        "\n",
        "# Contribuição da rigidez à flexão do concreto e revestimento (expressa como fração de EI_steel)\n",
        "csf = 0  # Neste caso, não há contribuição adicional de concreto ou revestimento\n",
        "\n",
        "# Rigidez à flexão do aço (EI_steel), dada em N.m²\n",
        "ei = 8.946 * (10 ** 7 )\n",
        "\n",
        "# Constante de Temperatura\n",
        "temperature_coefficient = 0.00017  # Coeficiente de expansão térmica\n",
        "\n",
        "# Modulo de Elasticidade\n",
        "young_modulus = 207 * (10**9)  # Módulo de elasticidade\n",
        "\n",
        "# Coeficiente de Poisson\n",
        "poisson_coefficient_steel = 0.3\n",
        "poisson_coefficient_soil = 0.45\n",
        "\n",
        "# Massa Especifica\n",
        "specific_mass_steel = 7850 # Kg/m³\n",
        "specific_mass_water = 1027 # Kg/m³\n",
        "\n",
        "# Constante Gravitacional\n",
        "gravity = 10 # m/s²\n",
        "\n",
        "me = 316.484 # Kg/m"
      ],
      "metadata": {
        "id": "4sB256lpctTb"
      },
      "execution_count": 24,
      "outputs": []
    },
    {
      "cell_type": "markdown",
      "source": [
        "**Força Axial Efetiva**"
      ],
      "metadata": {
        "id": "otmVoIzmD6Ot"
      }
    },
    {
      "cell_type": "code",
      "source": [
        "import math\n",
        "\n",
        "# Tensão axial aplicada durante a instalação da tubulação (N)\n",
        "effective_lay_tension = 90000\n",
        "\n",
        "# Diferença de pressão interna (assumida como zero neste caso)\n",
        "internal_pressure_diff = 0\n",
        "\n",
        "# Cálculo da área da seção transversal da tubulação (m²)\n",
        "cross_sectional_area = pi_number * (diameter ** 2) / 4\n",
        "\n",
        "# Diferença de temperatura entre a instalação e a operação (assumida como zero neste caso)\n",
        "temperature_diff = 0\n",
        "\n",
        "# **Cálculo da força axial efetiva**\n",
        "effective_axial_force = (effective_lay_tension -  # Tensão axial de instalação\n",
        "                        internal_pressure_diff * cross_sectional_area *  # Termo da pressão interna\n",
        "                        (1 - 2 * poisson_coefficient_steel) -  # Ajuste devido ao efeito de Poisson\n",
        "                        cross_sectional_area * young_modulus * temperature_diff)  # Termo da variação térmica\n",
        "\n",
        "print('Força Axial Efetiva: ' + str(effective_axial_force))\n",
        "\n"
      ],
      "metadata": {
        "colab": {
          "base_uri": "https://localhost:8080/"
        },
        "id": "0m7PKkgEDd-G",
        "outputId": "b35e4805-46fc-4c6b-f8bd-cfc6c8846168"
      },
      "execution_count": 26,
      "outputs": [
        {
          "output_type": "stream",
          "name": "stdout",
          "text": [
            "Força Axial Efetiva: 90000.0\n"
          ]
        }
      ]
    },
    {
      "cell_type": "markdown",
      "source": [
        "**Rigidez do Solo**"
      ],
      "metadata": {
        "id": "PDem153fkoat"
      }
    },
    {
      "cell_type": "code",
      "source": [
        "\n",
        "# Effetive Lenght\n",
        "area_pipe = pi_number * (((diameter/2)**2) - (((diameter/2)- steel_thickness)**2))\n",
        "densidade_steel = 7850 #kg/m³\n",
        "ms =  densidade_steel * area_pipe * 40 # mass of the pipe\n",
        "densidade_water = 1027 #kg/m³\n",
        "area_water = pi_number * ((diameter/2) ** 2)\n",
        "m = densidade_water * area_water * 40  #  mass of the displaced water\n",
        "\n",
        "ds_per_d = ms/m\n",
        "\n",
        "cv = 600000 # boundary condition coefficient (vertical dynamic stiffness)\n",
        "cl = 500000 # boundary condition coefficient (lateral dynamic stiffness)\n",
        "\n",
        "## Definição dos parâmetros de rigidez do solo para argila muito mole (Clay Very Soft)\n",
        "kvs = 75000 # N/m/m - Rigidez estática vertical do solo por unidade de comprimento\n",
        "kv = (cv/(1-poisson_coefficient_soil))*((2/3)*(ds_per_d) + 1/3)*math.sqrt(diameter) # N/m/m - Rigidez dinâmica vertical do solo por unidade de comprimento\n",
        "kl = (cl*(1+poisson_coefficient_soil))*((2/3)*(ds_per_d) + 1/3)*math.sqrt(diameter) # N/m/m - Rigidez dinâmica lateral do solo por unidade de comprimento\n",
        "\n",
        "print('Rigidez dinâmica vertical do solo: ' + str(kv))\n",
        "print('Rigidez dinâmica lateral do solo: ' + str(kl))"
      ],
      "metadata": {
        "colab": {
          "base_uri": "https://localhost:8080/"
        },
        "id": "BAXBeJ1ab3mC",
        "outputId": "de7ea258-5e83-4c46-f6fb-0c9ddaa0c35a"
      },
      "execution_count": 19,
      "outputs": [
        {
          "output_type": "stream",
          "name": "stdout",
          "text": [
            "Rigidez dinâmica vertical do solo: 897989.4426679793\n",
            "Rigidez dinâmica lateral do solo: 596788.8171064279\n"
          ]
        }
      ]
    },
    {
      "cell_type": "markdown",
      "source": [
        "**Carga Crítica de Flambagem**\n",
        "\n",
        "\n"
      ],
      "metadata": {
        "id": "9F9GE-TJFFMC"
      }
    },
    {
      "cell_type": "code",
      "execution_count": 6,
      "metadata": {
        "colab": {
          "base_uri": "https://localhost:8080/"
        },
        "id": "KXZgkx-CDbv8",
        "outputId": "1bca7ef5-d74e-4d4b-ab67-621cee7cc516"
      },
      "outputs": [
        {
          "output_type": "stream",
          "name": "stdout",
          "text": [
            "Rigidez dinâmica vertical do solo\n",
            "value_log: 25696.992770288703\n",
            "beta: 4.409882302331834\n",
            "Comprimento Efetivo: 49.21221618037678\n",
            "Carga Crítica de Flambagem: 1458286.2614672505\n",
            "Razão entre Força Axial Efetiva e Carga Crítica de Flambagem: 0.06171627778310601\n",
            "\n",
            "Rigidez dinâmica lateral do solo\n",
            "value_log: 17077.793111921033\n",
            "beta: 4.232431748013428\n",
            "Comprimento Efetivo: 50.25511640808623\n",
            "Carga Crítica de Flambagem: 1398389.2089517515\n",
            "Razão entre Força Axial Efetiva e Carga Crítica de Flambagem: 0.06435976438023648\n",
            "\n",
            "Rigidez estática vertical do solo\n",
            "value_log: 2146.2105969148224\n",
            "beta: 3.3316723348669113\n",
            "Comprimento Efetivo: 57.408083782216394\n",
            "Carga Crítica de Flambagem: 1071624.2403273375\n",
            "Razão entre Força Axial Efetiva e Carga Crítica de Flambagem: 0.08398466235936271\n",
            "\n"
          ]
        }
      ],
      "source": [
        "def effetive_length(k: int, length: int, csf: int, stiffness: float):\n",
        "\n",
        "  if k == kv:\n",
        "    print('Rigidez dinâmica vertical do solo')\n",
        "\n",
        "  elif k == kl:\n",
        "    print('Rigidez dinâmica lateral do solo')\n",
        "\n",
        "  else:\n",
        "    print('Rigidez estática vertical do solo')\n",
        "\n",
        "  # Cálculo do logaritmo do valor adimensional que influencia o comprimento efetivo\n",
        "  value_log = k * (length ** 4) / ((1 + csf) * stiffness)\n",
        "  print('value_log: ' + str (value_log))\n",
        "\n",
        "  beta = math.log10(value_log)  # Cálculo do logaritmo de base 10 do valor obtido\n",
        "  print('beta: ' + str(beta))  # Exibe o valor de beta\n",
        "\n",
        "  # Cálculo da razão entre o comprimento efetivo e o comprimento total da tubulação\n",
        "  ratio_length_eff = 4.73 / ((-0.066 * (beta ** 2)) + (1.02 * beta) + 0.63)\n",
        "\n",
        "  # Cálculo do comprimento efetivo da tubulação\n",
        "  length_eff = ratio_length_eff * length\n",
        "\n",
        "  print('Comprimento Efetivo: ' + str(length_eff))  # Exibe o comprimento efetivo da tubulação\n",
        "\n",
        "  # Coeficiente de condição de contorno\n",
        "  c2 = 4\n",
        "\n",
        "  # Cálculo da carga crítica de flambagem (Pcr)\n",
        "  pcr = (1 + csf) * c2 * (pi_number ** 2) * stiffness / (length_eff ** 2)\n",
        "\n",
        "  print('Carga Crítica de Flambagem: ' + str(pcr))  # Exibe o valor da carga crítica de flambagem\n",
        "\n",
        "  # Razão entre uma carga específica (90000 N) e a carga crítica de flambagem\n",
        "  print('Razão entre Força Axial Efetiva e Carga Crítica de Flambagem: ' + str(effective_axial_force / pcr))  # Exibe a relação entre a carga axial efetiva e a carga crítica de flambagem\n",
        "  print('')\n",
        "\n",
        "  return length_eff, pcr\n",
        "\n",
        "length_eff_vertical_dynamic, pcr_vertical_dynamic = effetive_length(k=kv, length=length, csf=csf, stiffness=ei)\n",
        "length_eff_lateral_dynamic, pcr_lateral_dynamic = effetive_length(k=kl, length=length, csf=csf, stiffness=ei)\n",
        "length_eff_vertical_static, pcr_vertical_static = effetive_length(k=kvs, length=length, csf=csf, stiffness=ei)\n"
      ]
    },
    {
      "cell_type": "markdown",
      "source": [
        "**Deflexão Estática**"
      ],
      "metadata": {
        "id": "sOb8vezbIarP"
      }
    },
    {
      "cell_type": "code",
      "source": [
        "# Coeficiente c2 de condição de contorno\n",
        "c6 = 1/384\n",
        "\n",
        "# Peso do tubo por unidade de comprimento\n",
        "pipe_weight =  specific_mass_steel * gravity * area_pipe\n",
        "\n",
        "# Cálculo do Empuxo\n",
        "empuxo = specific_mass_water * gravity * area_water\n",
        "\n",
        "# Solicitacao Axial Efetiva\n",
        "seff = effective_axial_force\n",
        "\n",
        "# Peso Submerso por Unidade de Comprimento\n",
        "q = pipe_weight - empuxo\n",
        "\n",
        "# Cálculo da Deflexão Estática\n",
        "deflection = c6 * ((q * (length_eff_vertical_static**4))/(ei * (1 + csf))) * (1 / (1 + seff/pcr_vertical_static))\n",
        "deflection_vertical_dynamic = c6 * ((q * (length_eff_vertical_dynamic**4))/(ei * (1 + csf))) * (1 / (1 + seff/pcr_vertical_dynamic))\n",
        "\n",
        "print('Deflexão: ' + str(deflection))\n",
        "print('Razão entre deflexão e diâmetro: '+ str(deflection/diameter))"
      ],
      "metadata": {
        "colab": {
          "base_uri": "https://localhost:8080/"
        },
        "id": "mMvs4ttiIUrZ",
        "outputId": "191d4632-b155-4b48-dfd9-e12a00ef82d8"
      },
      "execution_count": 27,
      "outputs": [
        {
          "output_type": "stream",
          "name": "stdout",
          "text": [
            "Deflexão: 0.1701705120336292\n",
            "Razão entre deflexão e diâmetro: 0.425426280084073\n"
          ]
        }
      ]
    },
    {
      "cell_type": "markdown",
      "source": [
        "**Amplitude máxima de tensão**"
      ],
      "metadata": {
        "id": "I_nyYxFuMG76"
      }
    },
    {
      "cell_type": "code",
      "source": [
        "# Coeficiente C4 de condição de contorno\n",
        "length_eff_list = [length_eff_vertical_dynamic, length_eff_lateral_dynamic, length_eff_vertical_static]\n",
        "\n",
        "for length_eff in length_eff_list:\n",
        "\n",
        "  c4_midspan = 8.6\n",
        "  c4_shouder = 14.1 * ((length/length_eff)**2)\n",
        "  c4 = [c4_midspan, c4_shouder]\n",
        "\n",
        "  if length_eff == length_eff_vertical_dynamic:\n",
        "    name_length_eff = 'Rigidez dinâmica vertical do solo'\n",
        "\n",
        "  elif length_eff == length_eff_lateral_dynamic:\n",
        "    name_length_eff = 'Rigidez dinâmica lateral do solo'\n",
        "\n",
        "  else:\n",
        "     name_length_eff ='Rigidez estática vertical do solo'\n",
        "\n",
        "  for c in c4:\n",
        "\n",
        "    if c == c4_midspan:\n",
        "      name_c = 'midspan'\n",
        "\n",
        "    else:\n",
        "      name_c = 'shouder'\n",
        "\n",
        "    radius_extern = diameter / 2\n",
        "    radius_intern = (diameter - 2*steel_thickness)/2\n",
        "    radius_list = [radius_extern, radius_intern]\n",
        "\n",
        "    for radius in radius_list:\n",
        "\n",
        "      if radius == radius_extern:\n",
        "        print(name_length_eff + ', ' + name_c + ', ' +' raio externo')\n",
        "\n",
        "      else:\n",
        "        print(name_length_eff + ', ' + name_c +', ' + 'raio interno')\n",
        "\n",
        "      amplitude_max_inline = 2 * c * (1 + csf) * diameter * young_modulus * radius / (length_eff ** 2)\n",
        "      #amplitude_max_crossflow = 2 * c * (1 + csf) * diameter * young_modulus * radius / (length_eff ** 2)\n",
        "\n",
        "      print('Amplitude (MPa): ' + str(amplitude_max_inline/1000000))\n",
        "      #print('Amplitude cross-flow (MPa): ' + str(amplitude_max_crossflow/1000000))\n",
        "      print('')"
      ],
      "metadata": {
        "colab": {
          "base_uri": "https://localhost:8080/"
        },
        "id": "WhTmSd-Kj1d6",
        "outputId": "78ca46d6-a1f1-4c94-eccd-732b5964cf0d"
      },
      "execution_count": 8,
      "outputs": [
        {
          "output_type": "stream",
          "name": "stdout",
          "text": [
            "Rigidez dinâmica vertical do solo, midspan,  raio externo\n",
            "Amplitude (MPa): 117.60964338841694\n",
            "\n",
            "Rigidez dinâmica vertical do solo, midspan, raio interno\n",
            "Amplitude (MPa): 105.84867904957525\n",
            "\n",
            "Rigidez dinâmica vertical do solo, shouder,  raio externo\n",
            "Amplitude (MPa): 127.39070203315512\n",
            "\n",
            "Rigidez dinâmica vertical do solo, shouder, raio interno\n",
            "Amplitude (MPa): 114.65163182983962\n",
            "\n",
            "Rigidez dinâmica lateral do solo, midspan,  raio externo\n",
            "Amplitude (MPa): 112.77899307475539\n",
            "\n",
            "Rigidez dinâmica lateral do solo, midspan, raio interno\n",
            "Amplitude (MPa): 101.50109376727987\n",
            "\n",
            "Rigidez dinâmica lateral do solo, shouder,  raio externo\n",
            "Amplitude (MPa): 117.14082820147966\n",
            "\n",
            "Rigidez dinâmica lateral do solo, shouder, raio interno\n",
            "Amplitude (MPa): 105.42674538133171\n",
            "\n",
            "Rigidez estática vertical do solo, midspan,  raio externo\n",
            "Amplitude (MPa): 86.42565460671165\n",
            "\n",
            "Rigidez estática vertical do solo, midspan, raio interno\n",
            "Amplitude (MPa): 77.78308914604048\n",
            "\n",
            "Rigidez estática vertical do solo, shouder,  raio externo\n",
            "Amplitude (MPa): 68.7918866028905\n",
            "\n",
            "Rigidez estática vertical do solo, shouder, raio interno\n",
            "Amplitude (MPa): 61.91269794260145\n",
            "\n"
          ]
        }
      ]
    },
    {
      "cell_type": "code",
      "source": [
        "amplitude_tensao_crossflow = (127.391 + 114.652)/2\n",
        "print('amplitude_tensao_crossflow: '+ str(amplitude_tensao_crossflow))\n",
        "\n",
        "amplitude_tensao_inline = (117.141 + 105.427)/2\n",
        "print('amplitude_tensao_inline: '+ str(amplitude_tensao_inline))"
      ],
      "metadata": {
        "colab": {
          "base_uri": "https://localhost:8080/"
        },
        "id": "GnWTWCYC1efY",
        "outputId": "1151aecc-4245-424b-d7bc-d3cb89373a85"
      },
      "execution_count": 9,
      "outputs": [
        {
          "output_type": "stream",
          "name": "stdout",
          "text": [
            "amplitude_tensao_crossflow: 121.0215\n",
            "amplitude_tensao_inline: 111.284\n"
          ]
        }
      ]
    },
    {
      "cell_type": "markdown",
      "source": [
        "**Frequência Natural Fundamental**"
      ],
      "metadata": {
        "id": "fhyv8sYaf3Fu"
      }
    },
    {
      "cell_type": "code",
      "source": [
        "# Boundary condition coefficients\n",
        "c1_inline, c1_crossflow = 3.56, 3.56\n",
        "c3_inline, c3_crossflow = 0, 0.4\n",
        "\n",
        "print ()\n",
        "f_inline = c1_inline * math.sqrt(1 + csf) * math.sqrt(ei/(me * (length_eff_lateral_dynamic ** 4)) * (1 + (seff/pcr_lateral_dynamic) + c3_inline * (deflection/diameter) ** 2))\n",
        "f_crossflow = c1_crossflow * math.sqrt(1 + csf) * math.sqrt(ei/(me * (length_eff_vertical_dynamic ** 4)) * (1 + (seff/pcr_vertical_dynamic) + c3_crossflow * (deflection/diameter) ** 2))\n",
        "\n",
        "print('Frequência na direção in-line (Hz) :'+ str(f_inline))\n",
        "print('Frequência na direção cross-flow (Hz) :'+ str(f_crossflow))"
      ],
      "metadata": {
        "colab": {
          "base_uri": "https://localhost:8080/"
        },
        "id": "YCJ4FZXZf1-1",
        "outputId": "1bf312dd-0783-4fc6-ab1e-5895c22949ae"
      },
      "execution_count": 10,
      "outputs": [
        {
          "output_type": "stream",
          "name": "stdout",
          "text": [
            "\n",
            "Frequência na direção in-line (Hz) :0.7731650662621364\n",
            "Frequência na direção cross-flow (Hz) :0.8323090555616094\n"
          ]
        }
      ]
    }
  ],
  "metadata": {
    "kernelspec": {
      "display_name": "env",
      "language": "python",
      "name": "python3"
    },
    "language_info": {
      "codemirror_mode": {
        "name": "ipython",
        "version": 3
      },
      "file_extension": ".py",
      "mimetype": "text/x-python",
      "name": "python",
      "nbconvert_exporter": "python",
      "pygments_lexer": "ipython3",
      "version": "3.12.3"
    },
    "colab": {
      "provenance": []
    }
  },
  "nbformat": 4,
  "nbformat_minor": 0
}