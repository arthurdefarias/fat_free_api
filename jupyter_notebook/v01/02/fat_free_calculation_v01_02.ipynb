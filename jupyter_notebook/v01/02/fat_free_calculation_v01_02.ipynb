{
  "cells": [
    {
      "cell_type": "markdown",
      "source": [
        "# Fat Free Simulation\n"
      ],
      "metadata": {
        "id": "kznHE89vc1Ts"
      }
    },
    {
      "cell_type": "markdown",
      "source": [
        "## **Constantes (input)**"
      ],
      "metadata": {
        "id": "U3QEXFVec6dw"
      }
    },
    {
      "cell_type": "code",
      "source": [
        "import math\n",
        "\n",
        "# Número pi\n",
        "pi_number = math.pi\n",
        "\n",
        "# Modulo de Elasticidade\n",
        "young_modulus_steel = 207 * (10**9)  # N/m²\n",
        "\n",
        "# Coeficiente de expansão térmica\n",
        "temperature_coefficient = 0.000017\n",
        "\n",
        "# Coeficiente de Poisson\n",
        "poisson_coefficient_steel = 0.3\n",
        "\n",
        "# Constante Gravitacional\n",
        "gravity = 9.80665 # m/s²"
      ],
      "metadata": {
        "id": "4sB256lpctTb"
      },
      "execution_count": 21,
      "outputs": []
    },
    {
      "cell_type": "markdown",
      "source": [
        "## **Densidades (input)**"
      ],
      "metadata": {
        "id": "kMgb2sRDdM6j"
      }
    },
    {
      "cell_type": "code",
      "source": [
        "# Densidade\n",
        "specific_mass_water = 1027 # Kg/m³\n",
        "\n",
        "specific_mass_steel = 7850 # Kg/m³\n",
        "specific_mass_concrete = 0 # Kg/m³\n",
        "specific_mass_coating = 935 # kg/m³\n",
        "specific_mass_content = 200 # Kg/m³"
      ],
      "metadata": {
        "id": "HpOF9W4zdQeq"
      },
      "execution_count": 22,
      "outputs": []
    },
    {
      "cell_type": "markdown",
      "source": [
        "## **Dimensões do duto (input)**"
      ],
      "metadata": {
        "id": "Av2oflf2eWUD"
      }
    },
    {
      "cell_type": "code",
      "source": [
        "# Diametro\n",
        "diameter = 0.2731 # metros\n",
        "\n",
        "#Espessura do aço\n",
        "steel_thickness = 0.0111 # metros\n",
        "\n",
        "#Espessura do concreto\n",
        "concrete_thickness = 0 # metros\n",
        "\n",
        "# Espessura do revestimento\n",
        "coating_thickness = 0.0027 # metros\n",
        "\n",
        "# Diâmetro Interno\n",
        "diameter_intern = diameter - 2*steel_thickness\n",
        "area_intern = pi_number * ((diameter_intern/2) ** 2)\n",
        "\n",
        "# Diametro Externo\n",
        "diameter_outer = diameter + 2*concrete_thickness + 2*coating_thickness\n",
        "area_outer = pi_number * ((diameter_outer/2) ** 2)\n",
        "\n",
        "print('Diâmetro Externo(m) :' + str(diameter_outer))\n"
      ],
      "metadata": {
        "id": "0A4BPpcmebJw",
        "colab": {
          "base_uri": "https://localhost:8080/"
        },
        "outputId": "8673d5b6-c739-4b4d-c8db-26866483334e"
      },
      "execution_count": 23,
      "outputs": [
        {
          "output_type": "stream",
          "name": "stdout",
          "text": [
            "Diâmetro Externo(m) :0.2785\n"
          ]
        }
      ]
    },
    {
      "cell_type": "markdown",
      "source": [
        "## **Carregamentos Funcionais (input)**"
      ],
      "metadata": {
        "id": "pKdrYTUDfxV4"
      }
    },
    {
      "cell_type": "code",
      "source": [
        "# Tensão Residual Efetiva\n",
        "heff = 60000 # N\n",
        "\n",
        "# Pressão interna no duto\n",
        "pression_intern = 147.1 # bar\n",
        "p = pression_intern * (10 ** 5) # 1 bar = 10^5 Pa\n",
        "\n",
        "# Mudança de temperatura em relação à temperatura ambiente durante a instalação\n",
        "delta_t = 0"
      ],
      "metadata": {
        "id": "fUtuAHvKf8Jf"
      },
      "execution_count": 24,
      "outputs": []
    },
    {
      "cell_type": "markdown",
      "source": [
        "## **Dados do Vão Livre (input)**"
      ],
      "metadata": {
        "id": "XSVGMw2_iCDs"
      }
    },
    {
      "cell_type": "code",
      "source": [
        "# Comprimento da tubulação (em metros)\n",
        "length = 17 # metros\n",
        "\n",
        "# Profundidade da água\n",
        "Water_depth = 200 # metros\n",
        "\n",
        "# Distância entre o duto e o leito marinho (gap)\n",
        "e_gap = 1 # metros\n",
        "\n",
        "print('razão L/Ds :' + str(length/diameter))"
      ],
      "metadata": {
        "id": "O0OTe_HniSav",
        "colab": {
          "base_uri": "https://localhost:8080/"
        },
        "outputId": "d60f441d-9003-41bd-ed30-eabb40915073"
      },
      "execution_count": 25,
      "outputs": [
        {
          "output_type": "stream",
          "name": "stdout",
          "text": [
            "razão L/Ds :62.2482607103625\n"
          ]
        }
      ]
    },
    {
      "cell_type": "markdown",
      "source": [
        "## **Dados de Revestimento (input)**\n"
      ],
      "metadata": {
        "id": "zEDSSMxLjJS_"
      }
    },
    {
      "cell_type": "code",
      "source": [
        "# Fator de rigidez do concreto\n",
        "kc = 0\n",
        "\n",
        "# Resistência normalizada de compressão\n",
        "fcn = 42 # Mpa"
      ],
      "metadata": {
        "id": "rLk6IU5Lk3B1"
      },
      "execution_count": 26,
      "outputs": []
    },
    {
      "cell_type": "markdown",
      "source": [
        "## **Massa Efetiva (valores auxiliares)**"
      ],
      "metadata": {
        "id": "NYjJiNmimGNL"
      }
    },
    {
      "cell_type": "code",
      "source": [
        "\n",
        "# Cálculo da massa da estrutura\n",
        "diameter_outer_steel = diameter\n",
        "diameter_intern_steel = diameter_intern\n",
        "area_steel_pipe = pi_number * (((diameter_outer_steel/2)**2) - ((diameter_intern_steel/2)**2))\n",
        "mass_steel_pipe =  specific_mass_steel * area_steel_pipe  # mass of the pipe\n",
        "\n",
        "diameter_outer_concrete = diameter_outer - 2*coating_thickness\n",
        "diameter_intern_concrete = diameter_outer_steel\n",
        "area_concrete_pipe = pi_number * (((diameter_outer_concrete/2)**2) - ((diameter_intern_concrete/2)**2))\n",
        "mass_concrete_pipe =  specific_mass_concrete* area_concrete_pipe  # mass of the pipe\n",
        "\n",
        "diameter_outer_coating = diameter_outer\n",
        "diameter_intern_coating = diameter_outer_concrete\n",
        "area_coating_pipe = pi_number * (((diameter_outer_coating/2)**2) - ((diameter_intern_coating/2)**2))\n",
        "mass_coating_pipe =  specific_mass_coating* area_coating_pipe  # mass of the pipe\n",
        "\n",
        "mass_structure_pipe = mass_steel_pipe + mass_concrete_pipe + mass_coating_pipe\n",
        "\n",
        "area_water = pi_number * ((diameter_outer/2) ** 2)\n",
        "mass_water_displaced = specific_mass_water * area_water  #  mass of the displaced water\n",
        "\n",
        "area_content = pi_number * ((diameter_intern/2) ** 2)\n",
        "mass_content = specific_mass_content * area_content # mass of fluid\n",
        "\n",
        "\n",
        "# Cálculo do coeficiente\n",
        "if e_gap/diameter_outer < 0.8:\n",
        "  coefficient_mass_added = 0.68 + (1.6/(1+5*(e_gap/diameter_outer)))\n",
        "\n",
        "else:\n",
        "  coefficient_mass_added = 1\n",
        "\n",
        "# Calculo da massa adicionada\n",
        "mass_added = coefficient_mass_added * mass_water_displaced\n",
        "\n",
        "mass_effetive =  mass_structure_pipe + mass_added + mass_content\n",
        "\n",
        "print('massa efetiva (kg/m): ' + str(mass_effetive))"
      ],
      "metadata": {
        "colab": {
          "base_uri": "https://localhost:8080/"
        },
        "id": "v3NKRuA182On",
        "outputId": "6f7bb122-afba-49d9-e939-fa82f7393544"
      },
      "execution_count": 27,
      "outputs": [
        {
          "output_type": "stream",
          "name": "stdout",
          "text": [
            "massa efetiva (kg/m): 146.35824179397534\n"
          ]
        }
      ]
    },
    {
      "cell_type": "markdown",
      "source": [
        "## **Rigidez (valores auxiliares)**"
      ],
      "metadata": {
        "id": "RUvnbshL8Zxr"
      }
    },
    {
      "cell_type": "code",
      "source": [
        "# Rigidez à flexão do aço (EI_steel), dada em N.m²\n",
        "moment_inertia = (pi_number/4) * (((diameter/2) ** 4) - (((diameter/2) - steel_thickness)**4))\n",
        "ei_steel = moment_inertia * young_modulus_steel\n",
        "\n",
        "print('rigidez do aço (N.m²) : ' + str(ei_steel))"
      ],
      "metadata": {
        "colab": {
          "base_uri": "https://localhost:8080/"
        },
        "id": "vmAreCXUmLVn",
        "outputId": "b6bc5a74-4cee-47a0-d5a4-c4014679e358"
      },
      "execution_count": 28,
      "outputs": [
        {
          "output_type": "stream",
          "name": "stdout",
          "text": [
            "rigidez do aço (N.m²) : 16256831.558693392\n"
          ]
        }
      ]
    },
    {
      "cell_type": "markdown",
      "source": [
        "## **Contribuição adicional para a rigidez (valores auxiliares)**"
      ],
      "metadata": {
        "id": "NTCTR3vXnXPY"
      }
    },
    {
      "cell_type": "code",
      "source": [
        "# Módulo de Young do Concreto\n",
        "young_modulus_concrete = 10000 * (fcn ** 0.3)\n",
        "moment_inertia_concrete = (pi_number/4) * (((diameter_outer_concrete/2) ** 4) - ((diameter_intern_concrete/2)**4))\n",
        "ei_concrete =  moment_inertia_concrete * young_modulus_concrete\n",
        "\n",
        "# Contribuição da rigidez à flexão do concreto e revestimento expressa como porcentagem de EI aço\n",
        "csf = kc * ((ei_concrete/ei_steel) ** 0.75)\n",
        "\n",
        "print('Momento de inércia do concreto(N.m²) :' + str(ei_concrete))\n",
        "print('Contribuição da rigidez à flexão do concreto e revestimento expressa como porcentagem de EI aço :' + str(csf))"
      ],
      "metadata": {
        "colab": {
          "base_uri": "https://localhost:8080/"
        },
        "id": "cstlQ3S8p7HS",
        "outputId": "fa0381f7-9bdf-4b5e-f80b-7e1971ddebf3"
      },
      "execution_count": 29,
      "outputs": [
        {
          "output_type": "stream",
          "name": "stdout",
          "text": [
            "Momento de inércia do concreto(N.m²) :0.0\n",
            "Contribuição da rigidez à flexão do concreto e revestimento expressa como porcentagem de EI aço :0.0\n"
          ]
        }
      ]
    },
    {
      "cell_type": "markdown",
      "source": [
        "## **Força Axial Efetiva (valores auxiliares)**"
      ],
      "metadata": {
        "id": "otmVoIzmD6Ot"
      }
    },
    {
      "cell_type": "code",
      "source": [
        "import math\n",
        "\n",
        "# Tensão axial aplicada durante a instalação da tubulação (N)\n",
        "effective_lay_tension = heff\n",
        "\n",
        "# Diferença de pressão interna (assumida como zero neste caso)\n",
        "internal_pressure_diff = p\n",
        "\n",
        "# Diferença de temperatura entre a instalação e a operação (assumida como zero neste caso)\n",
        "temperature_diff = delta_t\n",
        "\n",
        "# **Cálculo da força axial efetiva**\n",
        "effective_axial_force = (effective_lay_tension -  # Tensão axial de instalação\n",
        "                        internal_pressure_diff * area_intern *  # Termo da pressão interna\n",
        "                        (1 - 2 * poisson_coefficient_steel) -  # Ajuste devido ao efeito de Poisson\n",
        "                        area_outer * temperature_coefficient * temperature_diff)  # Termo da variação térmica\n",
        "\n",
        "print('Força Axial Efetiva (N): ' + str(effective_axial_force))\n"
      ],
      "metadata": {
        "colab": {
          "base_uri": "https://localhost:8080/"
        },
        "id": "0m7PKkgEDd-G",
        "outputId": "9bbc0714-1a21-44ba-8845-ad742c622a6d"
      },
      "execution_count": 30,
      "outputs": [
        {
          "output_type": "stream",
          "name": "stdout",
          "text": [
            "Força Axial Efetiva (N): -230913.4950855181\n"
          ]
        }
      ]
    },
    {
      "cell_type": "code",
      "source": [
        "# tentar encontrar o valor de lambda\n",
        "\n",
        "area_pipe_outer = pi_number * ((diameter_outer/2) ** 2)\n",
        "lambda_max = effective_axial_force / area_pipe_outer\n",
        "\n",
        "print(lambda_max/1000000)"
      ],
      "metadata": {
        "colab": {
          "base_uri": "https://localhost:8080/"
        },
        "id": "jRMCoUT0Puov",
        "outputId": "60b24697-bbe5-41ca-862e-4ac69c887ec0"
      },
      "execution_count": 31,
      "outputs": [
        {
          "output_type": "stream",
          "name": "stdout",
          "text": [
            "-3.79060939253168\n"
          ]
        }
      ]
    },
    {
      "cell_type": "markdown",
      "source": [
        "## **Parâmetros do solo (Clay Very Soft)**"
      ],
      "metadata": {
        "id": "PDem153fkoat"
      }
    },
    {
      "cell_type": "code",
      "source": [
        "# Effetive Lenght\n",
        "ms = mass_structure_pipe + mass_content\n",
        "m = mass_water_displaced\n",
        "\n",
        "ds_per_d = ms/m\n",
        "\n",
        "user_defined = True\n",
        "\n",
        "if user_defined == True:\n",
        "  kvs = 10 ** 5\n",
        "  kv = 10 ** 5\n",
        "  kl = 10 ** 5\n",
        "\n",
        "\n",
        "else:\n",
        "\n",
        "  poisson_coefficient_soil = 0.45\n",
        "\n",
        "  cv = 600000 # boundary condition coefficient (vertical dynamic stiffness)\n",
        "  cl = 500000 # boundary condition coefficient (lateral dynamic stiffness)\n",
        "\n",
        "  # Definição dos parâmetros de rigidez do solo para argila muito mole (Clay Very Soft)\n",
        "  kvs = 75000 # N/m/m - Rigidez estática vertical do solo por unidade de comprimento\n",
        "  kv = (cv/(1-poisson_coefficient_soil))*((2/3)*(ds_per_d) + 1/3)*math.sqrt(diameter_outer) # N/m/m - Rigidez dinâmica vertical do solo por unidade de comprimento\n",
        "  kl = (cl*(1+poisson_coefficient_soil))*((2/3)*(ds_per_d) + 1/3)*math.sqrt(diameter_outer) # N/m/m - Rigidez dinâmica lateral do solo por unidade de comprimento\n",
        "\n",
        "print('Rigidez dinâmica vertical do solo: ' + str(kv))\n",
        "print('Rigidez dinâmica lateral do solo: ' + str(kl))"
      ],
      "metadata": {
        "colab": {
          "base_uri": "https://localhost:8080/"
        },
        "id": "BAXBeJ1ab3mC",
        "outputId": "b8e2af1f-c490-4d07-a11d-13c44aefe7d6"
      },
      "execution_count": 32,
      "outputs": [
        {
          "output_type": "stream",
          "name": "stdout",
          "text": [
            "Rigidez dinâmica vertical do solo: 100000\n",
            "Rigidez dinâmica lateral do solo: 100000\n"
          ]
        }
      ]
    },
    {
      "cell_type": "markdown",
      "source": [
        "## **Carga Crítica de Flambagem (dados de resposta)**\n",
        "\n",
        "\n"
      ],
      "metadata": {
        "id": "9F9GE-TJFFMC"
      }
    },
    {
      "cell_type": "code",
      "execution_count": 33,
      "metadata": {
        "colab": {
          "base_uri": "https://localhost:8080/"
        },
        "id": "KXZgkx-CDbv8",
        "outputId": "844cd90c-dad2-4903-e2f8-f48c0c4a4426"
      },
      "outputs": [
        {
          "output_type": "stream",
          "name": "stdout",
          "text": [
            "Rigidez dinâmica vertical do solo\n",
            "value_log: 513.7593983086875\n",
            "beta: 2.710759779597058\n",
            "Comprimento Efetivo: 27.63237316021189\n",
            "Carga Crítica de Flambagem: 840541.7159652793\n",
            "Razão entre Força Axial Efetiva e Carga Crítica de Flambagem: -0.2747198511383064\n",
            "\n",
            "Rigidez dinâmica vertical do solo\n",
            "value_log: 513.7593983086875\n",
            "beta: 2.710759779597058\n",
            "Comprimento Efetivo: 27.63237316021189\n",
            "Carga Crítica de Flambagem: 840541.7159652793\n",
            "Razão entre Força Axial Efetiva e Carga Crítica de Flambagem: -0.2747198511383064\n",
            "\n",
            "Rigidez dinâmica vertical do solo\n",
            "value_log: 513.7593983086875\n",
            "beta: 2.710759779597058\n",
            "Comprimento Efetivo: 27.63237316021189\n",
            "Carga Crítica de Flambagem: 840541.7159652793\n",
            "Razão entre Força Axial Efetiva e Carga Crítica de Flambagem: -0.2747198511383064\n",
            "\n"
          ]
        }
      ],
      "source": [
        "import math\n",
        "def effetive_length(k: int, length: int, csf: int, stiffness: float):\n",
        "\n",
        "  if k == kv:\n",
        "    print('Rigidez dinâmica vertical do solo')\n",
        "\n",
        "  elif k == kl:\n",
        "    print('Rigidez dinâmica lateral do solo')\n",
        "\n",
        "  else:\n",
        "    print('Rigidez estática vertical do solo')\n",
        "\n",
        "  # Cálculo do logaritmo do valor adimensional que influencia o comprimento efetivo\n",
        "  value_log = k * (length ** 4) / ((1 + csf) * stiffness)\n",
        "  print('value_log: ' + str (value_log))\n",
        "\n",
        "  beta = math.log10(value_log)  # Cálculo do logaritmo de base 10 do valor obtido\n",
        "  print('beta: ' + str(beta))  # Exibe o valor de beta\n",
        "\n",
        "  # Cálculo da razão entre o comprimento efetivo e o comprimento total da tubulação\n",
        "  ratio_length_eff = 4.73 / ((-0.066 * (beta ** 2)) + (1.02 * beta) + 0.63)\n",
        "\n",
        "  # Cálculo do comprimento efetivo da tubulação\n",
        "  length_eff = ratio_length_eff * length\n",
        "\n",
        "  print('Comprimento Efetivo: ' + str(length_eff))  # Exibe o comprimento efetivo da tubulação\n",
        "\n",
        "  # Coeficiente de condição de contorno\n",
        "  c2 = 4\n",
        "\n",
        "  # Cálculo da carga crítica de flambagem (Pcr)\n",
        "  pcr = (1 + csf) * c2 * (pi_number ** 2) * stiffness / (length_eff ** 2)\n",
        "\n",
        "  print('Carga Crítica de Flambagem: ' + str(pcr))  # Exibe o valor da carga crítica de flambagem\n",
        "\n",
        "  # Razão entre uma carga específica (90000 N) e a carga crítica de flambagem\n",
        "  print('Razão entre Força Axial Efetiva e Carga Crítica de Flambagem: ' + str(effective_axial_force / pcr))  # Exibe a relação entre a carga axial efetiva e a carga crítica de flambagem\n",
        "  print('')\n",
        "\n",
        "  return length_eff, pcr\n",
        "\n",
        "length_eff_vertical_dynamic, pcr_vertical_dynamic = effetive_length(k=kv, length=length, csf=csf, stiffness=ei_steel)\n",
        "length_eff_lateral_dynamic, pcr_lateral_dynamic = effetive_length(k=kl, length=length, csf=csf, stiffness=ei_steel)\n",
        "length_eff_vertical_static, pcr_vertical_static = effetive_length(k=kvs, length=length, csf=csf, stiffness=ei_steel)\n",
        "\n",
        "pcr = min([pcr_vertical_dynamic, pcr_lateral_dynamic, pcr_vertical_static])\n",
        "\n"
      ]
    },
    {
      "cell_type": "markdown",
      "source": [
        "## **Deflexão Estática (dados de resposta)**"
      ],
      "metadata": {
        "id": "sOb8vezbIarP"
      }
    },
    {
      "cell_type": "code",
      "source": [
        "# Coeficiente c6 de condição de contorno\n",
        "c6 = 1/384\n",
        "\n",
        "# Peso do tubo por unidade de comprimento\n",
        "pipe_structure_weight = (mass_structure_pipe + mass_content) * gravity\n",
        "\n",
        "# Cálculo do Empuxo\n",
        "empuxo = mass_water_displaced * gravity\n",
        "\n",
        "# Peso Submerso por Unidade de Comprimento\n",
        "q = pipe_structure_weight - empuxo\n",
        "\n",
        "# Solicitacao Axial Efetiva\n",
        "seff = effective_axial_force\n",
        "\n",
        "# Cálculo da Deflexão Estática\n",
        "deflection = c6 * ((q * (length_eff_vertical_static**4))/(ei_steel * (1 + csf))) * (1 / (1 + seff/pcr_vertical_static))\n",
        "deflection_vertical_dynamic = c6 * ((q * (length_eff_vertical_dynamic**4))/(ei_steel * (1 + csf))) * (1 / (1 + seff/pcr_vertical_dynamic))\n",
        "\n",
        "print('Peso Submerso(N/L): ' + str(q))\n",
        "print('Deflexão: ' + str(deflection))\n",
        "print('Razão entre deflexão e diâmetro: '+ str(deflection/diameter_outer))"
      ],
      "metadata": {
        "colab": {
          "base_uri": "https://localhost:8080/"
        },
        "id": "mMvs4ttiIUrZ",
        "outputId": "7746d74c-b275-40d9-c892-fa95359ee7e0"
      },
      "execution_count": 34,
      "outputs": [
        {
          "output_type": "stream",
          "name": "stdout",
          "text": [
            "Peso Submerso(N/L): 208.23649458580167\n",
            "Deflexão: 0.026813694927538767\n",
            "Razão entre deflexão e diâmetro: 0.09627897640049826\n"
          ]
        }
      ]
    },
    {
      "cell_type": "markdown",
      "source": [
        "## **Amplitude máxima de tensão (dados de resposta)**"
      ],
      "metadata": {
        "id": "I_nyYxFuMG76"
      }
    },
    {
      "cell_type": "code",
      "source": [
        "length_eff_dic = {'vertical' : length_eff_vertical_dynamic, 'lateral' : length_eff_lateral_dynamic}\n",
        "\n",
        "print(length_eff_dic['vertical'])"
      ],
      "metadata": {
        "colab": {
          "base_uri": "https://localhost:8080/"
        },
        "id": "JTYMg5M3cyKX",
        "outputId": "d10997dc-1d6e-4f56-87be-0fc4e25cc50e"
      },
      "execution_count": 35,
      "outputs": [
        {
          "output_type": "stream",
          "name": "stdout",
          "text": [
            "27.63237316021189\n"
          ]
        }
      ]
    },
    {
      "cell_type": "code",
      "source": [
        "# Coeficiente C4 de condição de contorno\n",
        "\n",
        "length_eff_dic = {'vertical' : length_eff_vertical_dynamic, 'lateral' : length_eff_lateral_dynamic}\n",
        "length_eff_list = [length_eff_vertical_dynamic, length_eff_lateral_dynamic]\n",
        "\n",
        "amplitude_dic = {'vertical' : [], 'lateral': []}\n",
        "\n",
        "for key, length_eff in length_eff_dic.items():\n",
        "\n",
        "  c4_midspan = 8.6\n",
        "  c4_shouder = 14.1 * ((length/length_eff)**2)\n",
        "  c4 = [c4_midspan, c4_shouder]\n",
        "\n",
        "  if key == 'vertical':\n",
        "    name_length_eff = 'Rigidez dinâmica vertical do solo'\n",
        "\n",
        "  elif key == 'lateral':\n",
        "    name_length_eff = 'Rigidez dinâmica lateral do solo'\n",
        "\n",
        "  for c in c4:\n",
        "\n",
        "    if c == c4_midspan:\n",
        "      name_c = 'midspan'\n",
        "\n",
        "    else:\n",
        "      name_c = 'shouder'\n",
        "\n",
        "    # Distância à linha neutra\n",
        "    middle_line = (diameter_outer - 1*steel_thickness)/2\n",
        "\n",
        "    print(name_length_eff + ', ' + name_c +', ' + 'linha média')\n",
        "\n",
        "    # Cálculo seguindo a fórmulda do manual da fatfree\n",
        "    amplitude_max = 2 * c * (1 + csf) * diameter * young_modulus_steel * middle_line / (length_eff ** 2)\n",
        "\n",
        "    amplitude_dic[key].append(amplitude_max/1000000)\n",
        "\n",
        "\n",
        "    print('Amplitude (MPa): ' + str(amplitude_max/1000000))\n",
        "    print('')\n",
        "\n",
        "print('Amplitude máx. in-line (Mpa) :' + str(max(amplitude_dic['lateral'])))\n",
        "print('Amplitude máx. cross-flow (Mpa) :' + str(max(amplitude_dic['vertical'])))\n",
        ""
      ],
      "metadata": {
        "colab": {
          "base_uri": "https://localhost:8080/"
        },
        "id": "WhTmSd-Kj1d6",
        "outputId": "b77682d8-ec1a-4b0f-d0d3-8f8f9686479c"
      },
      "execution_count": 36,
      "outputs": [
        {
          "output_type": "stream",
          "name": "stdout",
          "text": [
            "Rigidez dinâmica vertical do solo, midspan, linha média\n",
            "Amplitude (MPa): 170.26113705593167\n",
            "\n",
            "Rigidez dinâmica vertical do solo, shouder, linha média\n",
            "Amplitude (MPa): 105.6568511019522\n",
            "\n",
            "Rigidez dinâmica lateral do solo, midspan, linha média\n",
            "Amplitude (MPa): 170.26113705593167\n",
            "\n",
            "Rigidez dinâmica lateral do solo, shouder, linha média\n",
            "Amplitude (MPa): 105.6568511019522\n",
            "\n",
            "Amplitude máx. in-line (Mpa) :170.26113705593167\n",
            "Amplitude máx. cross-flow (Mpa) :170.26113705593167\n"
          ]
        }
      ]
    },
    {
      "cell_type": "markdown",
      "source": [
        "## **Frequência Natural Fundamental (dados de resposta)**"
      ],
      "metadata": {
        "id": "fhyv8sYaf3Fu"
      }
    },
    {
      "cell_type": "code",
      "source": [
        "# Boundary condition coefficients\n",
        "c1_inline, c1_crossflow = 3.56, 3.56\n",
        "c3_inline, c3_crossflow = 0, 0.4\n",
        "\n",
        "# Massa efetiva\n",
        "me = mass_effetive\n",
        "\n",
        "# Cálculo das Frequências\n",
        "f_inline = c1_inline * math.sqrt(1 + csf) * math.sqrt(ei_steel/(me * (length_eff_lateral_dynamic ** 4)) * (1 + (seff/pcr_lateral_dynamic) + c3_inline * (deflection/diameter_outer) ** 2))\n",
        "f_crossflow = c1_crossflow * math.sqrt(1 + csf) * math.sqrt(ei_steel/(me * (length_eff_vertical_dynamic ** 4)) * (1 + (seff/pcr_vertical_dynamic) + c3_crossflow * (deflection/diameter_outer) ** 2))\n",
        "\n",
        "print('Frequência na direção in-line (Hz) :'+ str(f_inline))\n",
        "print('Frequência na direção cross-flow (Hz) :'+ str(f_crossflow))"
      ],
      "metadata": {
        "colab": {
          "base_uri": "https://localhost:8080/"
        },
        "id": "YCJ4FZXZf1-1",
        "outputId": "ceecbf4b-23cb-4a0b-d56e-efcca1e577a0"
      },
      "execution_count": 37,
      "outputs": [
        {
          "output_type": "stream",
          "name": "stdout",
          "text": [
            "Frequência na direção in-line (Hz) :1.3233535421939862\n",
            "Frequência na direção cross-flow (Hz) :1.326731926235356\n"
          ]
        }
      ]
    },
    {
      "cell_type": "markdown",
      "source": [
        "# Resumo dos resultados\n",
        "\n"
      ],
      "metadata": {
        "id": "wQm1-S2nhGTV"
      }
    },
    {
      "cell_type": "code",
      "source": [
        "print('----------------MAIN----------------')\n",
        "print('STRUCTURAL MODELLING')\n",
        "print('coating data')\n",
        "print('kc : ' + str(kc))\n",
        "print('fcn : ' + str(fcn))\n",
        "#print('k[m] : ' + str())\n",
        "print('')\n",
        "\n",
        "print('Functional Loads')\n",
        "print('Heff: ' + str(effective_lay_tension))\n",
        "print('p[bar] : ' + str(pression_intern))\n",
        "print('delta_T[ºC] : ' + str(delta_t))\n",
        "print('')\n",
        "\n",
        "print('Pipe Dimensions')\n",
        "print('Ds: ' + str(diameter))\n",
        "print('t_steel: ' + str(steel_thickness))\n",
        "print('t_concrete: ' + str(concrete_thickness))\n",
        "print('t_coating: ' + str(coating_thickness))\n",
        "print('')\n",
        "\n",
        "print('Constants')\n",
        "print('v: ' + str(poisson_coefficient_steel))\n",
        "print('alfa_exp_term: ' + str(temperature_coefficient))\n",
        "print('E(N/m): ' + str(young_modulus_steel))\n",
        "print('')\n",
        "\n",
        "print('Densities: ')\n",
        "print('d_steel: ' + str(specific_mass_steel))\n",
        "print('d_concrete: ' + str(specific_mass_concrete))\n",
        "print('d_coating: ' + str(specific_mass_coating))\n",
        "print('d_cont: ' + str(specific_mass_content))\n",
        "print('')\n",
        "\n",
        "\n",
        "print('FREE SPAN SCENÁRIO')\n",
        "#print('h[m] : ' + str(Water_depth))\n",
        "print('L[m] : ' + str(length))\n",
        "print('e[m] : ' + str(e_gap))\n",
        "print('D[m] : ' + str(diameter_outer))\n",
        "print('L/Ds : ' + str(length/diameter))\n",
        "print('')\n",
        "\n",
        "print('RESPONSE DATA')\n",
        "print('f1 (in-line) : ' + str(f_inline))\n",
        "print('f1 (cr-flow) : ' + str(f_crossflow))\n",
        "print('A1 (in-line) : ' + str(max(amplitude_dic['lateral'])))\n",
        "print('A1 (cr-flow) : ' + str(max(amplitude_dic['vertical'])))\n",
        "print('delta/D : ' + str(deflection/diameter_outer))\n",
        "print('Seff/Pe : ' + str(effective_axial_force / pcr))\n",
        "print('')\n",
        "\n",
        "print('SOIL PROPERTIES')\n",
        "print('Kv : ' + str(kv))\n",
        "print('Kl : ' + str(kl))\n",
        "print('Kv,s : ' + str(kvs))\n",
        "print('')\n",
        "\n",
        "print('------------------ABA------------------')\n",
        "print('STRUCTURAL MODELLING INTERMEDIATE RESULTS')\n",
        "print('Transfer Values')\n",
        "print('EI_steel : ' + str(ei_steel))\n",
        "print('me : ' + str(me))\n",
        "print('q : ' + str(q))\n",
        "print('Seff : ' + str(effective_axial_force))\n",
        "print('Ca : ' + str(coefficient_mass_added))\n",
        "print('CSF : ' + str(csf))\n",
        "print('ds/d : ' + str(ds_per_d))\n",
        "print('')\n",
        "\n",
        "print('Areas [m²]')\n",
        "print('Ai : ' + str(area_intern))\n",
        "print('A_steel : ' + str(area_steel_pipe))\n",
        "print('A_concrete : ' + str(area_concrete_pipe))\n",
        "print('A_coating : ' + str(area_coating_pipe))\n",
        "print('Ae : ' + str(area_outer))"
      ],
      "metadata": {
        "colab": {
          "base_uri": "https://localhost:8080/"
        },
        "id": "bIbKYFlig_gR",
        "outputId": "1cdde2c7-c3eb-4b93-8d18-1b0756f0c9f3"
      },
      "execution_count": 38,
      "outputs": [
        {
          "output_type": "stream",
          "name": "stdout",
          "text": [
            "----------------MAIN----------------\n",
            "STRUCTURAL MODELLING\n",
            "coating data\n",
            "kc : 0\n",
            "fcn : 42\n",
            "\n",
            "Functional Loads\n",
            "Heff: 60000\n",
            "p[bar] : 147.1\n",
            "delta_T[ºC] : 0\n",
            "\n",
            "Pipe Dimensions\n",
            "Ds: 0.2731\n",
            "t_steel: 0.0111\n",
            "t_concrete: 0\n",
            "t_coating: 0.0027\n",
            "\n",
            "Constants\n",
            "v: 0.3\n",
            "alfa_exp_term: 1.7e-05\n",
            "E(N/m): 207000000000\n",
            "\n",
            "Densities: \n",
            "d_steel: 7850\n",
            "d_concrete: 0\n",
            "d_coating: 935\n",
            "d_cont: 200\n",
            "\n",
            "FREE SPAN SCENÁRIO\n",
            "L[m] : 17\n",
            "e[m] : 1\n",
            "D[m] : 0.2785\n",
            "L/Ds : 62.2482607103625\n",
            "\n",
            "RESPONSE DATA\n",
            "f1 (in-line) : 1.3233535421939862\n",
            "f1 (cr-flow) : 1.326731926235356\n",
            "A1 (in-line) : 170.26113705593167\n",
            "A1 (cr-flow) : 170.26113705593167\n",
            "delta/D : 0.09627897640049826\n",
            "Seff/Pe : -0.2747198511383064\n",
            "\n",
            "SOIL PROPERTIES\n",
            "Kv : 100000\n",
            "Kl : 100000\n",
            "Kv,s : 100000\n",
            "\n",
            "------------------ABA------------------\n",
            "STRUCTURAL MODELLING INTERMEDIATE RESULTS\n",
            "Transfer Values\n",
            "EI_steel : 16256831.558693392\n",
            "me : 146.35824179397534\n",
            "q : 208.23649458580167\n",
            "Seff : -230913.4950855181\n",
            "Ca : 1\n",
            "CSF : 0.0\n",
            "ds/d : 1.3394106338363645\n",
            "\n",
            "Areas [m²]\n",
            "Ai : 0.04944145055838173\n",
            "A_steel : 0.009136379755169835\n",
            "A_concrete : 0.0\n",
            "A_coating : 0.0023394183854221788\n",
            "Ae : 0.06091724869897374\n"
          ]
        }
      ]
    },
    {
      "cell_type": "markdown",
      "source": [
        "# Exporting to PDF"
      ],
      "metadata": {
        "id": "c_Vrlbngcpcq"
      }
    },
    {
      "cell_type": "code",
      "source": [
        "!sudo apt-get install texlive-xetex texlive-fonts-recommended texlive-plain-generic"
      ],
      "metadata": {
        "colab": {
          "base_uri": "https://localhost:8080/"
        },
        "id": "PcjVferWdhxb",
        "outputId": "e88f0339-30f2-4691-94f8-4cc6d8bbfdf3"
      },
      "execution_count": 39,
      "outputs": [
        {
          "output_type": "stream",
          "name": "stdout",
          "text": [
            "Reading package lists... Done\n",
            "Building dependency tree... Done\n",
            "Reading state information... Done\n",
            "texlive-fonts-recommended is already the newest version (2021.20220204-1).\n",
            "texlive-plain-generic is already the newest version (2021.20220204-1).\n",
            "texlive-xetex is already the newest version (2021.20220204-1).\n",
            "0 upgraded, 0 newly installed, 0 to remove and 20 not upgraded.\n"
          ]
        }
      ]
    },
    {
      "cell_type": "code",
      "source": [
        "from google.colab import drive\n",
        "drive.mount('/content/drive')"
      ],
      "metadata": {
        "colab": {
          "base_uri": "https://localhost:8080/"
        },
        "id": "TME1i6LhetNQ",
        "outputId": "55b46e11-aae3-4ab0-e384-31b6c5292e2c"
      },
      "execution_count": 40,
      "outputs": [
        {
          "output_type": "stream",
          "name": "stdout",
          "text": [
            "Mounted at /content/drive\n"
          ]
        }
      ]
    },
    {
      "cell_type": "code",
      "source": [
        "!apt-get install pandoc"
      ],
      "metadata": {
        "id": "jwKXoI52gXvM",
        "colab": {
          "base_uri": "https://localhost:8080/"
        },
        "outputId": "cc8f30c8-c5fb-4229-dc72-519335364a5e"
      },
      "execution_count": 41,
      "outputs": [
        {
          "output_type": "stream",
          "name": "stdout",
          "text": [
            "Reading package lists... Done\n",
            "Building dependency tree... Done\n",
            "Reading state information... Done\n",
            "The following additional packages will be installed:\n",
            "  libcmark-gfm-extensions0.29.0.gfm.3 libcmark-gfm0.29.0.gfm.3 pandoc-data\n",
            "Suggested packages:\n",
            "  texlive-luatex pandoc-citeproc context wkhtmltopdf librsvg2-bin groff ghc nodejs php python\n",
            "  libjs-mathjax libjs-katex citation-style-language-styles\n",
            "The following NEW packages will be installed:\n",
            "  libcmark-gfm-extensions0.29.0.gfm.3 libcmark-gfm0.29.0.gfm.3 pandoc pandoc-data\n",
            "0 upgraded, 4 newly installed, 0 to remove and 20 not upgraded.\n",
            "Need to get 20.6 MB of archives.\n",
            "After this operation, 156 MB of additional disk space will be used.\n",
            "Get:1 http://archive.ubuntu.com/ubuntu jammy/universe amd64 libcmark-gfm0.29.0.gfm.3 amd64 0.29.0.gfm.3-3 [115 kB]\n",
            "Get:2 http://archive.ubuntu.com/ubuntu jammy/universe amd64 libcmark-gfm-extensions0.29.0.gfm.3 amd64 0.29.0.gfm.3-3 [25.1 kB]\n",
            "Get:3 http://archive.ubuntu.com/ubuntu jammy/universe amd64 pandoc-data all 2.9.2.1-3ubuntu2 [81.8 kB]\n",
            "Get:4 http://archive.ubuntu.com/ubuntu jammy/universe amd64 pandoc amd64 2.9.2.1-3ubuntu2 [20.3 MB]\n",
            "Fetched 20.6 MB in 1s (28.8 MB/s)\n",
            "Selecting previously unselected package libcmark-gfm0.29.0.gfm.3:amd64.\n",
            "(Reading database ... 161755 files and directories currently installed.)\n",
            "Preparing to unpack .../libcmark-gfm0.29.0.gfm.3_0.29.0.gfm.3-3_amd64.deb ...\n",
            "Unpacking libcmark-gfm0.29.0.gfm.3:amd64 (0.29.0.gfm.3-3) ...\n",
            "Selecting previously unselected package libcmark-gfm-extensions0.29.0.gfm.3:amd64.\n",
            "Preparing to unpack .../libcmark-gfm-extensions0.29.0.gfm.3_0.29.0.gfm.3-3_amd64.deb ...\n",
            "Unpacking libcmark-gfm-extensions0.29.0.gfm.3:amd64 (0.29.0.gfm.3-3) ...\n",
            "Selecting previously unselected package pandoc-data.\n",
            "Preparing to unpack .../pandoc-data_2.9.2.1-3ubuntu2_all.deb ...\n",
            "Unpacking pandoc-data (2.9.2.1-3ubuntu2) ...\n",
            "Selecting previously unselected package pandoc.\n",
            "Preparing to unpack .../pandoc_2.9.2.1-3ubuntu2_amd64.deb ...\n",
            "Unpacking pandoc (2.9.2.1-3ubuntu2) ...\n",
            "Setting up libcmark-gfm0.29.0.gfm.3:amd64 (0.29.0.gfm.3-3) ...\n",
            "Setting up libcmark-gfm-extensions0.29.0.gfm.3:amd64 (0.29.0.gfm.3-3) ...\n",
            "Setting up pandoc-data (2.9.2.1-3ubuntu2) ...\n",
            "Setting up pandoc (2.9.2.1-3ubuntu2) ...\n",
            "Processing triggers for man-db (2.10.2-1) ...\n",
            "Processing triggers for libc-bin (2.35-0ubuntu3.8) ...\n",
            "/sbin/ldconfig.real: /usr/local/lib/libtcm_debug.so.1 is not a symbolic link\n",
            "\n",
            "/sbin/ldconfig.real: /usr/local/lib/libhwloc.so.15 is not a symbolic link\n",
            "\n",
            "/sbin/ldconfig.real: /usr/local/lib/libtbbbind.so.3 is not a symbolic link\n",
            "\n",
            "/sbin/ldconfig.real: /usr/local/lib/libur_loader.so.0 is not a symbolic link\n",
            "\n",
            "/sbin/ldconfig.real: /usr/local/lib/libur_adapter_level_zero.so.0 is not a symbolic link\n",
            "\n",
            "/sbin/ldconfig.real: /usr/local/lib/libtbbmalloc.so.2 is not a symbolic link\n",
            "\n",
            "/sbin/ldconfig.real: /usr/local/lib/libumf.so.0 is not a symbolic link\n",
            "\n",
            "/sbin/ldconfig.real: /usr/local/lib/libur_adapter_opencl.so.0 is not a symbolic link\n",
            "\n",
            "/sbin/ldconfig.real: /usr/local/lib/libtcm.so.1 is not a symbolic link\n",
            "\n",
            "/sbin/ldconfig.real: /usr/local/lib/libtbb.so.12 is not a symbolic link\n",
            "\n",
            "/sbin/ldconfig.real: /usr/local/lib/libtbbbind_2_5.so.3 is not a symbolic link\n",
            "\n",
            "/sbin/ldconfig.real: /usr/local/lib/libtbbbind_2_0.so.3 is not a symbolic link\n",
            "\n",
            "/sbin/ldconfig.real: /usr/local/lib/libtbbmalloc_proxy.so.2 is not a symbolic link\n",
            "\n"
          ]
        }
      ]
    },
    {
      "cell_type": "code",
      "source": [
        "\n",
        "!jupyter nbconvert --to pdf '/content/drive/MyDrive/fat_free_calculation_v01-02.ipynb'"
      ],
      "metadata": {
        "id": "bxAAJD3zeL0t",
        "colab": {
          "base_uri": "https://localhost:8080/"
        },
        "outputId": "aec43e9f-3017-406e-b018-2d98ffbef01e"
      },
      "execution_count": 42,
      "outputs": [
        {
          "output_type": "stream",
          "name": "stdout",
          "text": [
            "[NbConvertApp] Converting notebook /content/drive/MyDrive/fat_free_calculation_v01-02.ipynb to pdf\n",
            "[NbConvertApp] Writing 73658 bytes to notebook.tex\n",
            "[NbConvertApp] Building PDF\n",
            "[NbConvertApp] Running xelatex 3 times: ['xelatex', 'notebook.tex', '-quiet']\n",
            "[NbConvertApp] Running bibtex 1 time: ['bibtex', 'notebook']\n",
            "[NbConvertApp] WARNING | bibtex had problems, most likely because there were no citations\n",
            "[NbConvertApp] PDF successfully created\n",
            "[NbConvertApp] Writing 73177 bytes to /content/drive/MyDrive/fat_free_calculation_v01-02.pdf\n"
          ]
        }
      ]
    }
  ],
  "metadata": {
    "kernelspec": {
      "display_name": "env",
      "language": "python",
      "name": "python3"
    },
    "language_info": {
      "codemirror_mode": {
        "name": "ipython",
        "version": 3
      },
      "file_extension": ".py",
      "mimetype": "text/x-python",
      "name": "python",
      "nbconvert_exporter": "python",
      "pygments_lexer": "ipython3",
      "version": "3.12.3"
    },
    "colab": {
      "provenance": [],
      "toc_visible": true
    }
  },
  "nbformat": 4,
  "nbformat_minor": 0
}