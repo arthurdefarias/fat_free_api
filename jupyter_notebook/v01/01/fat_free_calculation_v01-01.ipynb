{
  "cells": [
    {
      "cell_type": "markdown",
      "source": [
        "# Fat Free Simulation\n"
      ],
      "metadata": {
        "id": "kznHE89vc1Ts"
      }
    },
    {
      "cell_type": "markdown",
      "source": [
        "## **Constantes (input)**"
      ],
      "metadata": {
        "id": "U3QEXFVec6dw"
      }
    },
    {
      "cell_type": "code",
      "source": [
        "import math\n",
        "\n",
        "# Número pi\n",
        "pi_number = math.pi\n",
        "\n",
        "# Modulo de Elasticidade\n",
        "young_modulus_steel = 207 * (10**9)  # N/m²\n",
        "\n",
        "# Coeficiente de expansão térmica\n",
        "temperature_coefficient = 0.000017\n",
        "\n",
        "# Coeficiente de Poisson\n",
        "poisson_coefficient_steel = 0.3\n",
        "\n",
        "# Constante Gravitacional\n",
        "gravity = 9.80665 # m/s²"
      ],
      "metadata": {
        "id": "4sB256lpctTb"
      },
      "execution_count": 49,
      "outputs": []
    },
    {
      "cell_type": "markdown",
      "source": [
        "## **Densidades (input)**"
      ],
      "metadata": {
        "id": "kMgb2sRDdM6j"
      }
    },
    {
      "cell_type": "code",
      "source": [
        "# Densidade\n",
        "specific_mass_water = 1027 # Kg/m³\n",
        "\n",
        "specific_mass_steel = 7850 # Kg/m³\n",
        "specific_mass_concrete = 1800 # Kg/m³\n",
        "specific_mass_coating = 940 # kg/m³\n",
        "specific_mass_content = 0 # Kg/m³"
      ],
      "metadata": {
        "id": "HpOF9W4zdQeq"
      },
      "execution_count": 50,
      "outputs": []
    },
    {
      "cell_type": "markdown",
      "source": [
        "## **Dimensões do duto (input)**"
      ],
      "metadata": {
        "id": "Av2oflf2eWUD"
      }
    },
    {
      "cell_type": "code",
      "source": [
        "# Diametro\n",
        "diameter = 0.4 # metros\n",
        "\n",
        "#Espessura do aço\n",
        "steel_thickness = 0.02 # metros\n",
        "\n",
        "#Espessura do concreto\n",
        "concrete_thickness = 0 # metros\n",
        "\n",
        "# Espessura do revestimento\n",
        "coating_thickness = 0 # metros\n",
        "\n",
        "# Diâmetro Interno\n",
        "diameter_intern = diameter - 2*steel_thickness\n",
        "area_intern = pi_number * ((diameter_intern/2) ** 2)\n",
        "\n",
        "# Diametro Externo\n",
        "diameter_outer = diameter + 2*concrete_thickness + 2*coating_thickness\n",
        "area_outer = pi_number * ((diameter_outer/2) ** 2)\n",
        "\n",
        "print('Diâmetro Externo(m) :' + str(diameter_outer))\n"
      ],
      "metadata": {
        "id": "0A4BPpcmebJw",
        "colab": {
          "base_uri": "https://localhost:8080/"
        },
        "outputId": "bc84a697-a7db-401a-8515-a9fec538e116"
      },
      "execution_count": 51,
      "outputs": [
        {
          "output_type": "stream",
          "name": "stdout",
          "text": [
            "Diâmetro Externo(m) :0.4\n"
          ]
        }
      ]
    },
    {
      "cell_type": "markdown",
      "source": [
        "## **Carregamentos Funcionais (input)**"
      ],
      "metadata": {
        "id": "pKdrYTUDfxV4"
      }
    },
    {
      "cell_type": "code",
      "source": [
        "# Tensão Residual Efetiva\n",
        "heff = 90000 # N\n",
        "\n",
        "# Pressão interna no duto\n",
        "pression_intern = 0 # bar\n",
        "p = pression_intern * (10 ** 5) # 1 bar = 10^5 Pa\n",
        "\n",
        "# Mudança de temperatura em relação à temperatura ambiente durante a instalação\n",
        "delta_t = 0"
      ],
      "metadata": {
        "id": "fUtuAHvKf8Jf"
      },
      "execution_count": 52,
      "outputs": []
    },
    {
      "cell_type": "markdown",
      "source": [
        "## **Dados do Vão Livre (input)**"
      ],
      "metadata": {
        "id": "XSVGMw2_iCDs"
      }
    },
    {
      "cell_type": "code",
      "source": [
        "# Comprimento da tubulação (em metros)\n",
        "length = 40 # metros\n",
        "\n",
        "# Profundidade da água\n",
        "#Water_depth = 110 # metros\n",
        "\n",
        "# Distância entre o duto e o leito marinho (gap)\n",
        "e_gap = 0.40 # metros\n",
        "\n",
        "print('razão L/Ds :' + str(length/diameter))"
      ],
      "metadata": {
        "id": "O0OTe_HniSav",
        "colab": {
          "base_uri": "https://localhost:8080/"
        },
        "outputId": "ae9b5def-270e-4626-b003-37cc8948b7e5"
      },
      "execution_count": 53,
      "outputs": [
        {
          "output_type": "stream",
          "name": "stdout",
          "text": [
            "razão L/Ds :100.0\n"
          ]
        }
      ]
    },
    {
      "cell_type": "markdown",
      "source": [
        "## **Dados de Revestimento (input)**\n"
      ],
      "metadata": {
        "id": "zEDSSMxLjJS_"
      }
    },
    {
      "cell_type": "code",
      "source": [
        "# Fator de rigidez do concreto\n",
        "kc = 0.25\n",
        "\n",
        "# Resistência normalizada de compressão\n",
        "fcn = 42 # Mpa"
      ],
      "metadata": {
        "id": "rLk6IU5Lk3B1"
      },
      "execution_count": 54,
      "outputs": []
    },
    {
      "cell_type": "markdown",
      "source": [
        "## **Massa Efetiva (valores auxiliares)**"
      ],
      "metadata": {
        "id": "NYjJiNmimGNL"
      }
    },
    {
      "cell_type": "code",
      "source": [
        "\n",
        "# Cálculo da massa da estrutura\n",
        "diameter_outer_steel = diameter\n",
        "diameter_intern_steel = diameter_intern\n",
        "area_steel_pipe = pi_number * (((diameter_outer_steel/2)**2) - ((diameter_intern_steel/2)**2))\n",
        "mass_steel_pipe =  specific_mass_steel * area_steel_pipe  # mass of the pipe\n",
        "\n",
        "diameter_outer_concrete = diameter_outer - 2*coating_thickness\n",
        "diameter_intern_concrete = diameter_outer_steel\n",
        "area_concrete_pipe = pi_number * (((diameter_outer_concrete/2)**2) - ((diameter_intern_concrete/2)**2))\n",
        "mass_concrete_pipe =  specific_mass_concrete* area_concrete_pipe  # mass of the pipe\n",
        "\n",
        "diameter_outer_coating = diameter_outer\n",
        "diameter_intern_coating = diameter_outer_concrete\n",
        "area_coating_pipe = pi_number * (((diameter_outer_coating/2)**2) - ((diameter_intern_coating/2)**2))\n",
        "mass_coating_pipe =  specific_mass_coating* area_coating_pipe  # mass of the pipe\n",
        "\n",
        "mass_structure_pipe = mass_steel_pipe + mass_concrete_pipe + mass_coating_pipe\n",
        "\n",
        "area_water = pi_number * ((diameter_outer/2) ** 2)\n",
        "mass_water_displaced = specific_mass_water * area_water  #  mass of the displaced water\n",
        "\n",
        "area_content = pi_number * ((diameter_intern/2) ** 2)\n",
        "mass_content = specific_mass_content * area_content # mass of fluid\n",
        "\n",
        "\n",
        "# Cálculo do coeficiente\n",
        "if e_gap/diameter_outer < 0.8:\n",
        "  coefficient_mass_added = 0.68 + (1.6/(1+5*(e_gap/diameter_outer)))\n",
        "\n",
        "else:\n",
        "  coefficient_mass_added = 1\n",
        "\n",
        "# Calculo da massa adicionada\n",
        "mass_added = coefficient_mass_added * mass_water_displaced\n",
        "\n",
        "mass_effetive =  mass_structure_pipe + mass_added + mass_content\n",
        "\n",
        "print('massa efetiva (kg/m): ' + str(mass_effetive))"
      ],
      "metadata": {
        "colab": {
          "base_uri": "https://localhost:8080/"
        },
        "id": "v3NKRuA182On",
        "outputId": "a2657cfa-7f9b-448c-c103-bcac6e65f04b"
      },
      "execution_count": 55,
      "outputs": [
        {
          "output_type": "stream",
          "name": "stdout",
          "text": [
            "massa efetiva (kg/m): 316.4840439226358\n"
          ]
        }
      ]
    },
    {
      "cell_type": "markdown",
      "source": [
        "## **Rigidez (valores auxiliares)**"
      ],
      "metadata": {
        "id": "RUvnbshL8Zxr"
      }
    },
    {
      "cell_type": "code",
      "source": [
        "# Rigidez à flexão do aço (EI_steel), dada em N.m²\n",
        "moment_inertia_steel = (pi_number/4) * (((diameter/2) ** 4) - (((diameter/2) - steel_thickness)**4))\n",
        "ei_steel = moment_inertia_steel * young_modulus_steel\n",
        "\n",
        "\n",
        "print('rigidez do aço (N.m²) : ' + str(ei_steel))"
      ],
      "metadata": {
        "colab": {
          "base_uri": "https://localhost:8080/"
        },
        "id": "vmAreCXUmLVn",
        "outputId": "9eb1c846-98e2-4e65-9f7d-aa373bb99bd1"
      },
      "execution_count": 56,
      "outputs": [
        {
          "output_type": "stream",
          "name": "stdout",
          "text": [
            "rigidez do aço (N.m²) : 89456599.48355705\n"
          ]
        }
      ]
    },
    {
      "cell_type": "markdown",
      "source": [
        "## **Contribuição adicional para a rigidez (valores auxiliares)**"
      ],
      "metadata": {
        "id": "NTCTR3vXnXPY"
      }
    },
    {
      "cell_type": "code",
      "source": [
        "# Módulo de Young do Concreto\n",
        "young_modulus_concrete = 10000 * (fcn ** 0.3)\n",
        "moment_inertia_concrete = (pi_number/4) * (((diameter_outer_concrete/2) ** 4) - ((diameter_intern_concrete/2)**4))\n",
        "ei_concrete =  moment_inertia_concrete * young_modulus_concrete\n",
        "\n",
        "# Contribuição da rigidez à flexão do concreto e revestimento expressa como porcentagem de EI aço\n",
        "csf = kc * ((ei_concrete/ei_steel) ** 0.75)\n",
        "\n",
        "print('Momento de inércia do concreto(N.m²) :' + str(ei_concrete))\n",
        "print('Contribuição da rigidez à flexão do concreto e revestimento expressa como porcentagem de EI aço :' + str(csf))"
      ],
      "metadata": {
        "colab": {
          "base_uri": "https://localhost:8080/"
        },
        "id": "cstlQ3S8p7HS",
        "outputId": "1aa60a49-e588-42ae-e13a-d7a12015e229"
      },
      "execution_count": 57,
      "outputs": [
        {
          "output_type": "stream",
          "name": "stdout",
          "text": [
            "Momento de inércia do concreto(N.m²) :0.0\n",
            "Contribuição da rigidez à flexão do concreto e revestimento expressa como porcentagem de EI aço :0.0\n"
          ]
        }
      ]
    },
    {
      "cell_type": "markdown",
      "source": [
        "## **Força Axial Efetiva (valores auxiliares)**"
      ],
      "metadata": {
        "id": "otmVoIzmD6Ot"
      }
    },
    {
      "cell_type": "code",
      "source": [
        "import math\n",
        "\n",
        "# Tensão axial aplicada durante a instalação da tubulação (N)\n",
        "effective_lay_tension = heff\n",
        "\n",
        "# Diferença de pressão interna (assumida como zero neste caso)\n",
        "internal_pressure_diff = p\n",
        "\n",
        "# Diferença de temperatura entre a instalação e a operação (assumida como zero neste caso)\n",
        "temperature_diff = delta_t\n",
        "\n",
        "# **Cálculo da força axial efetiva**\n",
        "effective_axial_force = (effective_lay_tension -  # Tensão axial de instalação\n",
        "                        internal_pressure_diff * area_intern *  # Termo da pressão interna\n",
        "                        (1 - 2 * poisson_coefficient_steel) -  # Ajuste devido ao efeito de Poisson\n",
        "                        area_outer * temperature_coefficient * temperature_diff)  # Termo da variação térmica\n",
        "\n",
        "print('Força Axial Efetiva (N): ' + str(effective_axial_force))\n"
      ],
      "metadata": {
        "colab": {
          "base_uri": "https://localhost:8080/"
        },
        "id": "0m7PKkgEDd-G",
        "outputId": "d9d309aa-abfa-47a8-f0cb-0dea43fb164d"
      },
      "execution_count": 58,
      "outputs": [
        {
          "output_type": "stream",
          "name": "stdout",
          "text": [
            "Força Axial Efetiva (N): 90000.0\n"
          ]
        }
      ]
    },
    {
      "cell_type": "code",
      "source": [
        "# tentar encontrar o valor de lambda\n",
        "\n",
        "area_pipe_outer = pi_number * ((diameter_outer/2) ** 2)\n",
        "lambda_max = effective_axial_force / area_pipe_outer\n",
        "\n",
        "print(lambda_max/1000000)"
      ],
      "metadata": {
        "colab": {
          "base_uri": "https://localhost:8080/"
        },
        "id": "jRMCoUT0Puov",
        "outputId": "fa0bfffd-ecaf-4900-88ab-169f1f807e13"
      },
      "execution_count": 59,
      "outputs": [
        {
          "output_type": "stream",
          "name": "stdout",
          "text": [
            "0.716197243913529\n"
          ]
        }
      ]
    },
    {
      "cell_type": "markdown",
      "source": [
        "## **Parâmetros do solo (user_defined)**\n",
        "\n",
        "---\n",
        "\n"
      ],
      "metadata": {
        "id": "PDem153fkoat"
      }
    },
    {
      "cell_type": "code",
      "source": [
        "# Effetive Lenght\n",
        "ms = mass_structure_pipe + mass_content\n",
        "m = mass_water_displaced\n",
        "\n",
        "ds_per_d = ms/m\n",
        "\n",
        "user_defined = False\n",
        "\n",
        "if user_defined == True:\n",
        "  kvs = 10 ** 5\n",
        "  kv = 10 ** 5\n",
        "  kl = 10 ** 5\n",
        "\n",
        "\n",
        "else:\n",
        "\n",
        "  poisson_coefficient_soil = 0.45\n",
        "\n",
        "  cv = 600000 # boundary condition coefficient (vertical dynamic stiffness)\n",
        "  cl = 500000 # boundary condition coefficient (lateral dynamic stiffness)\n",
        "\n",
        "  # Definição dos parâmetros de rigidez do solo para argila muito mole (Clay Very Soft)\n",
        "  kvs = 75000 # N/m/m - Rigidez estática vertical do solo por unidade de comprimento\n",
        "  kv = (cv/(1-poisson_coefficient_soil))*((2/3)*(ds_per_d) + 1/3)*math.sqrt(diameter_outer) # N/m/m - Rigidez dinâmica vertical do solo por unidade de comprimento\n",
        "  kl = (cl*(1+poisson_coefficient_soil))*((2/3)*(ds_per_d) + 1/3)*math.sqrt(diameter_outer) # N/m/m - Rigidez dinâmica lateral do solo por unidade de comprimento\n",
        "\n",
        "print('Rigidez dinâmica vertical do solo: ' + str(kv))\n",
        "print('Rigidez dinâmica lateral do solo: ' + str(kl))"
      ],
      "metadata": {
        "colab": {
          "base_uri": "https://localhost:8080/"
        },
        "id": "BAXBeJ1ab3mC",
        "outputId": "c144f4b7-91a9-4024-ad1d-28f794b269ff"
      },
      "execution_count": 60,
      "outputs": [
        {
          "output_type": "stream",
          "name": "stdout",
          "text": [
            "Rigidez dinâmica vertical do solo: 897989.4426679794\n",
            "Rigidez dinâmica lateral do solo: 596788.817106428\n"
          ]
        }
      ]
    },
    {
      "cell_type": "markdown",
      "source": [
        "## **Carga Crítica de Flambagem (dados de resposta)**\n",
        "\n",
        "\n"
      ],
      "metadata": {
        "id": "9F9GE-TJFFMC"
      }
    },
    {
      "cell_type": "code",
      "execution_count": 61,
      "metadata": {
        "colab": {
          "base_uri": "https://localhost:8080/"
        },
        "id": "KXZgkx-CDbv8",
        "outputId": "cd741d9e-c0b5-4238-b4c9-a1ebdca8dcc6"
      },
      "outputs": [
        {
          "output_type": "stream",
          "name": "stdout",
          "text": [
            "Rigidez dinâmica vertical do solo\n",
            "value_log: 25697.969590858167\n",
            "beta: 4.409898810867445\n",
            "Comprimento Efetivo: 49.21212364625961\n",
            "Carga Crítica de Flambagem: 1458236.3135555368\n",
            "Razão entre Força Axial Efetiva e Carga Crítica de Flambagem: 0.06171839170604522\n",
            "\n",
            "Rigidez dinâmica lateral do solo\n",
            "value_log: 17078.442290591156\n",
            "beta: 4.232448256549039\n",
            "Comprimento Efetivo: 50.25501474871205\n",
            "Carga Crítica de Flambagem: 1398341.7112712332\n",
            "Razão entre Força Axial Efetiva e Carga Crítica de Flambagem: 0.06436195049790866\n",
            "\n",
            "Rigidez estática vertical do solo\n",
            "value_log: 2146.2921808836627\n",
            "beta: 3.3316888434025222\n",
            "Comprimento Efetivo: 57.40791693322816\n",
            "Carga Crítica de Flambagem: 1071589.7350489332\n",
            "Razão entre Força Axial Efetiva e Carga Crítica de Flambagem: 0.08398736667246093\n",
            "\n"
          ]
        }
      ],
      "source": [
        "import math\n",
        "def effetive_length(k: int, length: int, csf: int, stiffness: float):\n",
        "\n",
        "  if k == kv:\n",
        "    print('Rigidez dinâmica vertical do solo')\n",
        "\n",
        "  elif k == kl:\n",
        "    print('Rigidez dinâmica lateral do solo')\n",
        "\n",
        "  else:\n",
        "    print('Rigidez estática vertical do solo')\n",
        "\n",
        "  # Cálculo do logaritmo do valor adimensional que influencia o comprimento efetivo\n",
        "  value_log = k * (length ** 4) / ((1 + csf) * stiffness)\n",
        "  print('value_log: ' + str (value_log))\n",
        "\n",
        "  beta = math.log10(value_log)  # Cálculo do logaritmo de base 10 do valor obtido\n",
        "  print('beta: ' + str(beta))  # Exibe o valor de beta\n",
        "\n",
        "  # Cálculo da razão entre o comprimento efetivo e o comprimento total da tubulação\n",
        "  ratio_length_eff = 4.73 / ((-0.066 * (beta ** 2)) + (1.02 * beta) + 0.63)\n",
        "\n",
        "  # Cálculo do comprimento efetivo da tubulação\n",
        "  length_eff = ratio_length_eff * length\n",
        "\n",
        "  print('Comprimento Efetivo: ' + str(length_eff))  # Exibe o comprimento efetivo da tubulação\n",
        "\n",
        "  # Coeficiente de condição de contorno\n",
        "  c2 = 4\n",
        "\n",
        "  # Cálculo da carga crítica de flambagem (Pcr)\n",
        "  pcr = (1 + csf) * c2 * (pi_number ** 2) * stiffness / (length_eff ** 2)\n",
        "\n",
        "  print('Carga Crítica de Flambagem: ' + str(pcr))  # Exibe o valor da carga crítica de flambagem\n",
        "\n",
        "  # Razão entre uma carga específica (90000 N) e a carga crítica de flambagem\n",
        "  print('Razão entre Força Axial Efetiva e Carga Crítica de Flambagem: ' + str(effective_axial_force / pcr))  # Exibe a relação entre a carga axial efetiva e a carga crítica de flambagem\n",
        "  print('')\n",
        "\n",
        "  return length_eff, pcr\n",
        "\n",
        "length_eff_vertical_dynamic, pcr_vertical_dynamic = effetive_length(k=kv, length=length, csf=csf, stiffness=ei_steel)\n",
        "length_eff_lateral_dynamic, pcr_lateral_dynamic = effetive_length(k=kl, length=length, csf=csf, stiffness=ei_steel)\n",
        "length_eff_vertical_static, pcr_vertical_static = effetive_length(k=kvs, length=length, csf=csf, stiffness=ei_steel)\n",
        "\n",
        "pcr = min([pcr_vertical_dynamic, pcr_lateral_dynamic, pcr_vertical_static])\n",
        "\n"
      ]
    },
    {
      "cell_type": "markdown",
      "source": [
        "## **Deflexão Estática (dados de resposta)**"
      ],
      "metadata": {
        "id": "sOb8vezbIarP"
      }
    },
    {
      "cell_type": "code",
      "source": [
        "# Coeficiente c6 de condição de contorno\n",
        "c6 = 1/384\n",
        "\n",
        "# Peso do tubo por unidade de comprimento\n",
        "pipe_structure_weight = (mass_structure_pipe + mass_content) * gravity\n",
        "\n",
        "# Cálculo do Empuxo\n",
        "empuxo = mass_water_displaced * gravity\n",
        "\n",
        "# Peso Submerso por Unidade de Comprimento\n",
        "q = pipe_structure_weight - empuxo\n",
        "\n",
        "# Solicitacao Axial Efetiva\n",
        "seff = effective_axial_force\n",
        "\n",
        "# Cálculo da Deflexão Estática\n",
        "deflection = c6 * ((q * (length_eff_vertical_static**4))/(ei_steel * (1 + csf))) * (1 / (1 + seff/pcr_vertical_static))\n",
        "deflection_vertical_dynamic = c6 * ((q * (length_eff_vertical_dynamic**4))/(ei_steel * (1 + csf))) * (1 / (1 + seff/pcr_vertical_dynamic))\n",
        "\n",
        "print('Peso Submerso(N/L): ' + str(q))\n",
        "print('Deflexão: ' + str(deflection))\n",
        "print('Razão entre deflexão e diâmetro: '+ str(deflection/diameter_outer))"
      ],
      "metadata": {
        "colab": {
          "base_uri": "https://localhost:8080/"
        },
        "id": "mMvs4ttiIUrZ",
        "outputId": "ed841c07-ef08-4029-92e4-2de17d5a9e53"
      },
      "execution_count": 62,
      "outputs": [
        {
          "output_type": "stream",
          "name": "stdout",
          "text": [
            "Peso Submerso(N/L): 572.4219224997441\n",
            "Deflexão: 0.16696889845604465\n",
            "Razão entre deflexão e diâmetro: 0.4174222461401116\n"
          ]
        }
      ]
    },
    {
      "cell_type": "markdown",
      "source": [
        "## **Amplitude máxima de tensão (dados de resposta)**"
      ],
      "metadata": {
        "id": "I_nyYxFuMG76"
      }
    },
    {
      "cell_type": "code",
      "source": [
        "length_eff_dic = {'vertical' : length_eff_vertical_dynamic, 'lateral' : length_eff_lateral_dynamic}\n",
        "\n",
        "print(length_eff_dic['vertical'])"
      ],
      "metadata": {
        "colab": {
          "base_uri": "https://localhost:8080/"
        },
        "id": "JTYMg5M3cyKX",
        "outputId": "6c1b543e-5133-467c-8b67-40c52b310b67"
      },
      "execution_count": 63,
      "outputs": [
        {
          "output_type": "stream",
          "name": "stdout",
          "text": [
            "49.21212364625961\n"
          ]
        }
      ]
    },
    {
      "cell_type": "code",
      "source": [
        "# Coeficiente C4 de condição de contorno\n",
        "\n",
        "length_eff_dic = {'vertical' : length_eff_vertical_dynamic, 'lateral' : length_eff_lateral_dynamic}\n",
        "length_eff_list = [length_eff_vertical_dynamic, length_eff_lateral_dynamic]\n",
        "\n",
        "amplitude_dic = {'vertical' : [], 'lateral': []}\n",
        "\n",
        "for key, length_eff in length_eff_dic.items():\n",
        "\n",
        "  c4_midspan = 8.6\n",
        "  c4_shouder = 14.1 * ((length/length_eff)**2)\n",
        "  c4 = [c4_midspan, c4_shouder]\n",
        "\n",
        "  if key == 'vertical':\n",
        "    name_length_eff = 'Rigidez dinâmica vertical do solo'\n",
        "\n",
        "  elif key == 'lateral':\n",
        "    name_length_eff = 'Rigidez dinâmica lateral do solo'\n",
        "\n",
        "  for c in c4:\n",
        "\n",
        "    if c == c4_midspan:\n",
        "      name_c = 'midspan'\n",
        "\n",
        "    else:\n",
        "      name_c = 'shouder'\n",
        "\n",
        "    # Distância à linha neutra\n",
        "    middle_line = (diameter_outer - 1*steel_thickness)/2\n",
        "\n",
        "    print(name_length_eff + ', ' + name_c +', ' + 'linha média')\n",
        "\n",
        "    # Cálculo seguindo a fórmulda do manual da fatfree\n",
        "    amplitude_max = 2 * c * (1 + csf) * diameter * young_modulus_steel * middle_line / (length_eff ** 2)\n",
        "\n",
        "    amplitude_dic[key].append(amplitude_max/1000000)\n",
        "\n",
        "\n",
        "    print('Amplitude (MPa): ' + str(amplitude_max/1000000))\n",
        "    print('')\n",
        "\n",
        "print('Amplitude máx. in-line (Mpa) :' + str(max(amplitude_dic['lateral'])))\n",
        "print('Amplitude máx. cross-flow (Mpa) :' + str(max(amplitude_dic['vertical'])))\n"
      ],
      "metadata": {
        "colab": {
          "base_uri": "https://localhost:8080/"
        },
        "id": "WhTmSd-Kj1d6",
        "outputId": "a2681b81-b71d-44c5-954f-01806388f478"
      },
      "execution_count": 64,
      "outputs": [
        {
          "output_type": "stream",
          "name": "stdout",
          "text": [
            "Rigidez dinâmica vertical do solo, midspan, linha média\n",
            "Amplitude (MPa): 111.72958139062249\n",
            "\n",
            "Rigidez dinâmica vertical do solo, shouder, linha média\n",
            "Amplitude (MPa): 121.02207716398449\n",
            "\n",
            "Rigidez dinâmica lateral do solo, midspan, linha média\n",
            "Amplitude (MPa): 107.14047688226859\n",
            "\n",
            "Rigidez dinâmica lateral do solo, shouder, linha média\n",
            "Amplitude (MPa): 111.28468724478375\n",
            "\n",
            "Amplitude máx. in-line (Mpa) :111.28468724478375\n",
            "Amplitude máx. cross-flow (Mpa) :121.02207716398449\n"
          ]
        }
      ]
    },
    {
      "cell_type": "markdown",
      "source": [
        "## **Frequência Natural Fundamental (dados de resposta)**"
      ],
      "metadata": {
        "id": "fhyv8sYaf3Fu"
      }
    },
    {
      "cell_type": "code",
      "source": [
        "# Boundary condition coefficients\n",
        "c1_inline, c1_crossflow = 3.56, 3.56\n",
        "c3_inline, c3_crossflow = 0, 0.4\n",
        "\n",
        "# Massa efetiva\n",
        "me = mass_effetive\n",
        "\n",
        "# Cálculo das Frequências\n",
        "f_inline = c1_inline * math.sqrt(1 + csf) * math.sqrt(ei_steel/(me * (length_eff_lateral_dynamic ** 4)) * (1 + (seff/pcr_lateral_dynamic) + c3_inline * (deflection/diameter_outer) ** 2))\n",
        "f_crossflow = c1_crossflow * math.sqrt(1 + csf) * math.sqrt(ei_steel/(me * (length_eff_vertical_dynamic ** 4)) * (1 + (seff/pcr_vertical_dynamic) + c3_crossflow * (deflection/diameter_outer) ** 2))\n",
        "\n",
        "print('Frequência na direção in-line (Hz) :'+ str(f_inline))\n",
        "print('Frequência na direção cross-flow (Hz) :'+ str(f_crossflow))"
      ],
      "metadata": {
        "colab": {
          "base_uri": "https://localhost:8080/"
        },
        "id": "YCJ4FZXZf1-1",
        "outputId": "4ec1c3e8-2a39-46a2-9fb7-1d0bac35d73e"
      },
      "execution_count": 65,
      "outputs": [
        {
          "output_type": "stream",
          "name": "stdout",
          "text": [
            "Frequência na direção in-line (Hz) :0.773154239826187\n",
            "Frequência na direção cross-flow (Hz) :0.831279402352052\n"
          ]
        }
      ]
    },
    {
      "cell_type": "markdown",
      "source": [
        "# Resumo dos resultados\n",
        "\n"
      ],
      "metadata": {
        "id": "wQm1-S2nhGTV"
      }
    },
    {
      "cell_type": "code",
      "source": [
        "print('----------------MAIN----------------')\n",
        "print('STRUCTURAL MODELLING')\n",
        "print('coating data')\n",
        "print('kc : ' + str(kc))\n",
        "print('fcn : ' + str(fcn))\n",
        "#print('k[m] : ' + str())\n",
        "print('')\n",
        "\n",
        "print('Functional Loads')\n",
        "print('Heff: ' + str(effective_lay_tension))\n",
        "print('p[bar] : ' + str(pression_intern))\n",
        "print('delta_T[ºC] : ' + str(delta_t))\n",
        "print('')\n",
        "\n",
        "print('Pipe Dimensions')\n",
        "print('Ds: ' + str(diameter))\n",
        "print('t_steel: ' + str(steel_thickness))\n",
        "print('t_concrete: ' + str(concrete_thickness))\n",
        "print('t_coating: ' + str(coating_thickness))\n",
        "print('')\n",
        "\n",
        "print('Constants')\n",
        "print('v: ' + str(poisson_coefficient_steel))\n",
        "print('alfa_exp_term: ' + str(temperature_coefficient))\n",
        "print('E(N/m): ' + str(young_modulus_steel))\n",
        "print('')\n",
        "\n",
        "print('Densities: ')\n",
        "print('d_steel: ' + str(specific_mass_steel))\n",
        "print('d_concrete: ' + str(specific_mass_concrete))\n",
        "print('d_coating: ' + str(specific_mass_coating))\n",
        "print('d_cont: ' + str(specific_mass_content))\n",
        "print('')\n",
        "\n",
        "print('FREE SPAN SCENÁRIO')\n",
        "#print('h[m] : ' + str(Water_depth))\n",
        "print('L[m] : ' + str(length))\n",
        "print('e[m] : ' + str(e_gap))\n",
        "print('D[m] : ' + str(diameter_outer))\n",
        "print('L/Ds : ' + str(length/diameter))\n",
        "print('')\n",
        "\n",
        "print('RESPONSE DATA')\n",
        "print('f1 (in-line) : ' + str(f_inline))\n",
        "print('f1 (cr-flow) : ' + str(f_crossflow))\n",
        "print('A1 (in-line) : ' + str(max(amplitude_dic['lateral'])))\n",
        "print('A1 (cr-flow) : ' + str(max(amplitude_dic['vertical'])))\n",
        "print('delta/D : ' + str(deflection/diameter_outer))\n",
        "print('Seff/Pe : ' + str(effective_axial_force / pcr))\n",
        "print('')\n",
        "\n",
        "print('SOIL PROPERTIES')\n",
        "print('Kv : ' + str(kv))\n",
        "print('Kl : ' + str(kl))\n",
        "print('Kv,s : ' + str(kvs))\n",
        "print('')\n",
        "\n",
        "print('------------------ABA------------------')\n",
        "print('STRUCTURAL MODELLING INTERMEDIATE RESULTS')\n",
        "print('Transfer Values')\n",
        "print('EI_steel : ' + str(ei_steel))\n",
        "print('me : ' + str(me))\n",
        "print('q : ' + str(q))\n",
        "print('Seff : ' + str(effective_axial_force))\n",
        "print('Ca : ' + str(coefficient_mass_added))\n",
        "print('CSF : ' + str(csf))\n",
        "print('ds/d : ' + str(ds_per_d))\n",
        "print('')\n",
        "\n",
        "print('Areas [m²]')\n",
        "print('Ai : ' + str(area_intern))\n",
        "print('A_steel : ' + str(area_steel_pipe))\n",
        "print('A_concrete : ' + str(area_concrete_pipe))\n",
        "print('A_coating : ' + str(area_coating_pipe))\n",
        "print('Ae : ' + str(area_outer))"
      ],
      "metadata": {
        "colab": {
          "base_uri": "https://localhost:8080/"
        },
        "id": "bIbKYFlig_gR",
        "outputId": "2ba42ab8-d79f-4d00-ad43-971c4ae86c2d"
      },
      "execution_count": 66,
      "outputs": [
        {
          "output_type": "stream",
          "name": "stdout",
          "text": [
            "----------------MAIN----------------\n",
            "STRUCTURAL MODELLING\n",
            "coating data\n",
            "kc : 0.25\n",
            "fcn : 42\n",
            "\n",
            "Functional Loads\n",
            "Heff: 90000\n",
            "p[bar] : 0\n",
            "delta_T[ºC] : 0\n",
            "\n",
            "Pipe Dimensions\n",
            "Ds: 0.4\n",
            "t_steel: 0.02\n",
            "t_concrete: 0\n",
            "t_coating: 0\n",
            "\n",
            "Constants\n",
            "v: 0.3\n",
            "alfa_exp_term: 1.7e-05\n",
            "E(N/m): 207000000000\n",
            "\n",
            "Densities: \n",
            "d_steel: 7850\n",
            "d_concrete: 1800\n",
            "d_coating: 940\n",
            "d_cont: 0\n",
            "\n",
            "FREE SPAN SCENÁRIO\n",
            "L[m] : 40\n",
            "e[m] : 0.4\n",
            "D[m] : 0.4\n",
            "L/Ds : 100.0\n",
            "\n",
            "RESPONSE DATA\n",
            "f1 (in-line) : 0.773154239826187\n",
            "f1 (cr-flow) : 0.831279402352052\n",
            "A1 (in-line) : 111.28468724478375\n",
            "A1 (cr-flow) : 121.02207716398449\n",
            "delta/D : 0.4174222461401116\n",
            "Seff/Pe : 0.08398736667246093\n",
            "\n",
            "SOIL PROPERTIES\n",
            "Kv : 897989.4426679794\n",
            "Kl : 596788.817106428\n",
            "Kv,s : 75000\n",
            "\n",
            "------------------ABA------------------\n",
            "STRUCTURAL MODELLING INTERMEDIATE RESULTS\n",
            "Transfer Values\n",
            "EI_steel : 89456599.48355705\n",
            "me : 316.4840439226358\n",
            "q : 572.4219224997441\n",
            "Seff : 90000.0\n",
            "Ca : 1\n",
            "CSF : 0.0\n",
            "ds/d : 1.4522882181110035\n",
            "\n",
            "Areas [m²]\n",
            "Ai : 0.10178760197630932\n",
            "A_steel : 0.023876104167282437\n",
            "A_concrete : 0.0\n",
            "A_coating : 0.0\n",
            "Ae : 0.12566370614359174\n"
          ]
        }
      ]
    },
    {
      "cell_type": "markdown",
      "source": [
        "# Exporting to PDF"
      ],
      "metadata": {
        "id": "c_Vrlbngcpcq"
      }
    },
    {
      "cell_type": "code",
      "source": [
        "!sudo apt-get install texlive-xetex texlive-fonts-recommended texlive-plain-generic"
      ],
      "metadata": {
        "colab": {
          "base_uri": "https://localhost:8080/"
        },
        "id": "PcjVferWdhxb",
        "outputId": "b23d0135-5918-4bf5-feb0-78981bcb1e70"
      },
      "execution_count": 67,
      "outputs": [
        {
          "output_type": "stream",
          "name": "stdout",
          "text": [
            "Reading package lists... Done\n",
            "Building dependency tree... Done\n",
            "Reading state information... Done\n",
            "texlive-fonts-recommended is already the newest version (2021.20220204-1).\n",
            "texlive-plain-generic is already the newest version (2021.20220204-1).\n",
            "texlive-xetex is already the newest version (2021.20220204-1).\n",
            "0 upgraded, 0 newly installed, 0 to remove and 20 not upgraded.\n"
          ]
        }
      ]
    },
    {
      "cell_type": "code",
      "source": [
        "from google.colab import drive\n",
        "drive.mount('/content/drive')"
      ],
      "metadata": {
        "colab": {
          "base_uri": "https://localhost:8080/"
        },
        "id": "TME1i6LhetNQ",
        "outputId": "fa09d99c-0b5b-4afb-8d97-51252b728e9a"
      },
      "execution_count": 68,
      "outputs": [
        {
          "output_type": "stream",
          "name": "stdout",
          "text": [
            "Drive already mounted at /content/drive; to attempt to forcibly remount, call drive.mount(\"/content/drive\", force_remount=True).\n"
          ]
        }
      ]
    },
    {
      "cell_type": "code",
      "source": [
        "!apt-get install pandoc"
      ],
      "metadata": {
        "id": "jwKXoI52gXvM",
        "colab": {
          "base_uri": "https://localhost:8080/"
        },
        "outputId": "db194b36-b9e6-4c8d-ce4f-c6f37b5ca8ea"
      },
      "execution_count": 69,
      "outputs": [
        {
          "output_type": "stream",
          "name": "stdout",
          "text": [
            "Reading package lists... Done\n",
            "Building dependency tree... Done\n",
            "Reading state information... Done\n",
            "pandoc is already the newest version (2.9.2.1-3ubuntu2).\n",
            "0 upgraded, 0 newly installed, 0 to remove and 20 not upgraded.\n"
          ]
        }
      ]
    },
    {
      "cell_type": "code",
      "source": [
        "\n",
        "!jupyter nbconvert --to pdf '/content/drive/MyDrive/fat_free_calculation_v01-02.ipynb'"
      ],
      "metadata": {
        "id": "bxAAJD3zeL0t",
        "colab": {
          "base_uri": "https://localhost:8080/"
        },
        "outputId": "63bf02f4-a1ec-446b-bf6d-d2d54fa15b11"
      },
      "execution_count": null,
      "outputs": [
        {
          "output_type": "stream",
          "name": "stdout",
          "text": [
            "[NbConvertApp] Converting notebook /content/drive/MyDrive/fat_free_calculation_v01-02.ipynb to pdf\n"
          ]
        }
      ]
    }
  ],
  "metadata": {
    "kernelspec": {
      "display_name": "env",
      "language": "python",
      "name": "python3"
    },
    "language_info": {
      "codemirror_mode": {
        "name": "ipython",
        "version": 3
      },
      "file_extension": ".py",
      "mimetype": "text/x-python",
      "name": "python",
      "nbconvert_exporter": "python",
      "pygments_lexer": "ipython3",
      "version": "3.12.3"
    },
    "colab": {
      "provenance": [],
      "toc_visible": true
    }
  },
  "nbformat": 4,
  "nbformat_minor": 0
}