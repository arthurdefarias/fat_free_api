{
  "cells": [
    {
      "cell_type": "markdown",
      "source": [
        "**Constantes (input)**"
      ],
      "metadata": {
        "id": "U3QEXFVec6dw"
      }
    },
    {
      "cell_type": "code",
      "source": [
        "import math\n",
        "\n",
        "# Número pi\n",
        "pi_number = math.pi\n",
        "\n",
        "# Modulo de Elasticidade\n",
        "young_modulus_steel = 207 * (10**9)  # N/m²\n",
        "\n",
        "# Coeficiente de expansão térmica\n",
        "temperature_coefficient = 0.00017\n",
        "\n",
        "# Coeficiente de Poisson\n",
        "poisson_coefficient_steel = 0.3\n",
        "\n",
        "# Constante Gravitacional\n",
        "gravity = 9.81 # m/s²"
      ],
      "metadata": {
        "id": "4sB256lpctTb"
      },
      "execution_count": 93,
      "outputs": []
    },
    {
      "cell_type": "markdown",
      "source": [
        "**Densidades (input)**"
      ],
      "metadata": {
        "id": "kMgb2sRDdM6j"
      }
    },
    {
      "cell_type": "code",
      "source": [
        "# Densidade\n",
        "specific_mass_steel = 7850 # Kg/m³\n",
        "specific_mass_water = 1027 # Kg/m³"
      ],
      "metadata": {
        "id": "HpOF9W4zdQeq"
      },
      "execution_count": 94,
      "outputs": []
    },
    {
      "cell_type": "markdown",
      "source": [
        "**Dimensões do duto (input)**"
      ],
      "metadata": {
        "id": "Av2oflf2eWUD"
      }
    },
    {
      "cell_type": "code",
      "source": [
        "# Diametro\n",
        "diameter = 0.40 # metros\n",
        "\n",
        "#Espessura do aço\n",
        "steel_thickness = 0.02 # metros\n",
        "\n",
        "#Espessura do concreto\n",
        "concrete_thickness = 0 # metros\n",
        "\n",
        "# Espessura do revestimento\n",
        "coating_thickness = 0 # metros\n",
        "\n",
        "# Diâmetro Interno\n",
        "diameter_intern = diameter - 2*steel_thickness\n",
        "\n",
        "# Diametro Externo\n",
        "diameter_outer = diameter + concrete_thickness + coating_thickness"
      ],
      "metadata": {
        "id": "0A4BPpcmebJw"
      },
      "execution_count": 95,
      "outputs": []
    },
    {
      "cell_type": "markdown",
      "source": [
        "**Carregamentos Funcionais (input)**"
      ],
      "metadata": {
        "id": "pKdrYTUDfxV4"
      }
    },
    {
      "cell_type": "code",
      "source": [
        "# Tensão Residual Efetiva\n",
        "heff = 90000 # N\n",
        "\n",
        "# Pressão interna no duto\n",
        "p = 0 # bar\n",
        "\n",
        "# Mudança de temperatura em relação à temperatura ambiente durante a instalação\n",
        "delta_t = 0"
      ],
      "metadata": {
        "id": "fUtuAHvKf8Jf"
      },
      "execution_count": 96,
      "outputs": []
    },
    {
      "cell_type": "markdown",
      "source": [
        "**Dados do Vão Livre (input)**"
      ],
      "metadata": {
        "id": "XSVGMw2_iCDs"
      }
    },
    {
      "cell_type": "code",
      "source": [
        "# Comprimento da tubulação (em metros)\n",
        "length = 40 # metros\n",
        "\n",
        "# Profundidade da água\n",
        "Water_depth = 110 # metros\n",
        "\n",
        "# Distância entre o duto e o leito marinho (gap)\n",
        "e_gap = 0.4 # metros\n"
      ],
      "metadata": {
        "id": "O0OTe_HniSav"
      },
      "execution_count": 97,
      "outputs": []
    },
    {
      "cell_type": "markdown",
      "source": [
        "**Dados de Revestimento (input)**\n"
      ],
      "metadata": {
        "id": "zEDSSMxLjJS_"
      }
    },
    {
      "cell_type": "code",
      "source": [
        "# Fator de rigidez do concreto\n",
        "kc = 0.25\n",
        "\n",
        "# Resistência normalizada de compressão\n",
        "fcn = 42 # Mpa"
      ],
      "metadata": {
        "id": "rLk6IU5Lk3B1"
      },
      "execution_count": 98,
      "outputs": []
    },
    {
      "cell_type": "markdown",
      "source": [
        "**Massa Efetiva (valores auxiliares)**"
      ],
      "metadata": {
        "id": "NYjJiNmimGNL"
      }
    },
    {
      "cell_type": "code",
      "source": [
        "\n",
        "# Cálculo da massa efetiva\n",
        "area_steel_pipe = pi_number * (((diameter_outer/2)**2) - ((diameter_intern/2)**2))\n",
        "mass_steel_pipe =  specific_mass_steel * area_steel_pipe  # mass of the pipe\n",
        "\n",
        "area_water = pi_number * ((diameter_outer/2) ** 2)\n",
        "mass_water_displaced = specific_mass_water * area_water  #  mass of the displaced water\n",
        "\n",
        "\n",
        "# Cálculo do coeficiente\n",
        "if e_gap/diameter < 0.8:\n",
        "  coefficient_mass_added = 0.68 + (1.6/(1+5*(e_gap/diameter)))\n",
        "\n",
        "else:\n",
        "  coefficient_mass_added = 1\n",
        "\n",
        "mass_added = coefficient_mass_added * mass_water_displaced # additional mass\n",
        "\n",
        "mass_fluid = 0 # mass of fluid\n",
        "\n",
        "mass_effetive =  mass_steel_pipe + mass_added + mass_fluid\n",
        "\n",
        "print('massa efetiva (kg/m): ' + str(mass_effetive))"
      ],
      "metadata": {
        "colab": {
          "base_uri": "https://localhost:8080/"
        },
        "id": "v3NKRuA182On",
        "outputId": "0ba68a1d-7a5a-4f36-debd-0ad23dc7370a"
      },
      "execution_count": 109,
      "outputs": [
        {
          "output_type": "stream",
          "name": "stdout",
          "text": [
            "massa efetiva (kg/m): 316.4840439226358\n"
          ]
        }
      ]
    },
    {
      "cell_type": "markdown",
      "source": [
        "**Rigidez (valores auxiliares)**"
      ],
      "metadata": {
        "id": "RUvnbshL8Zxr"
      }
    },
    {
      "cell_type": "code",
      "source": [
        "# Rigidez à flexão do aço (EI_steel), dada em N.m²\n",
        "moment_inertia = (pi_number/4) * (((diameter/2) ** 4) - (((diameter/2) - steel_thickness)**4))\n",
        "ei_steel = moment_inertia * young_modulus_steel\n",
        "\n",
        "print('rigidez do aço (N.m²) : ' + str(ei_steel))"
      ],
      "metadata": {
        "colab": {
          "base_uri": "https://localhost:8080/"
        },
        "id": "vmAreCXUmLVn",
        "outputId": "1b476fe5-f614-4a5c-f225-c7ba02080866"
      },
      "execution_count": 110,
      "outputs": [
        {
          "output_type": "stream",
          "name": "stdout",
          "text": [
            "rigidez do aço (N.m²) : 89456599.48355705\n"
          ]
        }
      ]
    },
    {
      "cell_type": "markdown",
      "source": [
        "**Contribuição adicional para a rigidez (valores auxiliares)**"
      ],
      "metadata": {
        "id": "NTCTR3vXnXPY"
      }
    },
    {
      "cell_type": "code",
      "source": [
        "# Módulo de Young do Concreto\n",
        "young_modulus_concrete = 10000 * (fcn ** 0.3)\n",
        "\n",
        "ei_concrete =  moment_inertia * young_modulus_concrete\n",
        "\n",
        "# Verificando se existe revestimento de concreto para cálculo do CSF\n",
        "if concrete_thickness == 0:\n",
        "  csf = 0\n",
        "\n",
        "else:\n",
        "  # Contribuição da rigidez à flexão do concreto e revestimento expressa como porcentagem de EI aço\n",
        "  csf = kc * ((ei_concrete/ei_steel) ** 0.75)\n",
        "\n",
        "print('Contribuição da rigidez à flexão do concreto e revestimento expressa como porcentagem de EI aço :' + str(csf))"
      ],
      "metadata": {
        "colab": {
          "base_uri": "https://localhost:8080/"
        },
        "id": "cstlQ3S8p7HS",
        "outputId": "2a9ed1dd-0c4f-4436-c449-993fb42a6c2d"
      },
      "execution_count": 112,
      "outputs": [
        {
          "output_type": "stream",
          "name": "stdout",
          "text": [
            "Contribuição da rigidez à flexão do concreto e revestimento expressa como porcentagem de EI aço :0\n"
          ]
        }
      ]
    },
    {
      "cell_type": "markdown",
      "source": [
        "**Força Axial Efetiva (valores auxiliares)**"
      ],
      "metadata": {
        "id": "otmVoIzmD6Ot"
      }
    },
    {
      "cell_type": "code",
      "source": [
        "import math\n",
        "\n",
        "# Tensão axial aplicada durante a instalação da tubulação (N)\n",
        "effective_lay_tension = heff\n",
        "\n",
        "# Diferença de pressão interna (assumida como zero neste caso)\n",
        "internal_pressure_diff = p\n",
        "\n",
        "# Diferença de temperatura entre a instalação e a operação (assumida como zero neste caso)\n",
        "temperature_diff = delta_t\n",
        "\n",
        "# Cálculo da área da seção transversal da tubulação (m²)\n",
        "cross_sectional_area = pi_number * (diameter ** 2) / 4\n",
        "\n",
        "# **Cálculo da força axial efetiva**\n",
        "effective_axial_force = (effective_lay_tension -  # Tensão axial de instalação\n",
        "                        internal_pressure_diff * cross_sectional_area *  # Termo da pressão interna\n",
        "                        (1 - 2 * poisson_coefficient_steel) -  # Ajuste devido ao efeito de Poisson\n",
        "                        cross_sectional_area * young_modulus_steel * temperature_diff)  # Termo da variação térmica\n",
        "\n",
        "print('Força Axial Efetiva: ' + str(effective_axial_force))\n",
        "\n"
      ],
      "metadata": {
        "colab": {
          "base_uri": "https://localhost:8080/"
        },
        "id": "0m7PKkgEDd-G",
        "outputId": "f799fca5-19ba-45a5-d2ff-8f141229adb2"
      },
      "execution_count": 102,
      "outputs": [
        {
          "output_type": "stream",
          "name": "stdout",
          "text": [
            "Força Axial Efetiva: 90000.0\n"
          ]
        }
      ]
    },
    {
      "cell_type": "markdown",
      "source": [
        "**Parâmetros do solo (Clay Very Soft)**"
      ],
      "metadata": {
        "id": "PDem153fkoat"
      }
    },
    {
      "cell_type": "code",
      "source": [
        "\n",
        "# Effetive Lenght\n",
        "ms = mass_steel_pipe\n",
        "m = mass_water_displaced\n",
        "\n",
        "poisson_coefficient_soil = 0.45\n",
        "\n",
        "ds_per_d = ms/m\n",
        "\n",
        "cv = 600000 # boundary condition coefficient (vertical dynamic stiffness)\n",
        "cl = 500000 # boundary condition coefficient (lateral dynamic stiffness)\n",
        "\n",
        "# Definição dos parâmetros de rigidez do solo para argila muito mole (Clay Very Soft)\n",
        "kvs = 75000 # N/m/m - Rigidez estática vertical do solo por unidade de comprimento\n",
        "kv = (cv/(1-poisson_coefficient_soil))*((2/3)*(ds_per_d) + 1/3)*math.sqrt(diameter_outer) # N/m/m - Rigidez dinâmica vertical do solo por unidade de comprimento\n",
        "kl = (cl*(1+poisson_coefficient_soil))*((2/3)*(ds_per_d) + 1/3)*math.sqrt(diameter_outer) # N/m/m - Rigidez dinâmica lateral do solo por unidade de comprimento\n",
        "\n",
        "print('Rigidez dinâmica vertical do solo: ' + str(kv))\n",
        "print('Rigidez dinâmica lateral do solo: ' + str(kl))"
      ],
      "metadata": {
        "colab": {
          "base_uri": "https://localhost:8080/"
        },
        "id": "BAXBeJ1ab3mC",
        "outputId": "5e88952b-efdf-4ffb-b3c2-5ddbdec1c95b"
      },
      "execution_count": 103,
      "outputs": [
        {
          "output_type": "stream",
          "name": "stdout",
          "text": [
            "Rigidez dinâmica vertical do solo: 897989.4426679794\n",
            "Rigidez dinâmica lateral do solo: 596788.817106428\n"
          ]
        }
      ]
    },
    {
      "cell_type": "markdown",
      "source": [
        "**Carga Crítica de Flambagem**\n",
        "\n",
        "\n"
      ],
      "metadata": {
        "id": "9F9GE-TJFFMC"
      }
    },
    {
      "cell_type": "code",
      "execution_count": 104,
      "metadata": {
        "colab": {
          "base_uri": "https://localhost:8080/"
        },
        "id": "KXZgkx-CDbv8",
        "outputId": "ab7431c5-9ec6-4642-9e2b-12fbf927f7c0"
      },
      "outputs": [
        {
          "output_type": "stream",
          "name": "stdout",
          "text": [
            "Rigidez dinâmica vertical do solo\n",
            "value_log: 25697.969590858167\n",
            "beta: 4.409898810867445\n",
            "Comprimento Efetivo: 49.21212364625961\n",
            "Carga Crítica de Flambagem: 1458236.3135555368\n",
            "Razão entre Força Axial Efetiva e Carga Crítica de Flambagem: 0.06171839170604522\n",
            "\n",
            "Rigidez dinâmica lateral do solo\n",
            "value_log: 17078.442290591156\n",
            "beta: 4.232448256549039\n",
            "Comprimento Efetivo: 50.25501474871205\n",
            "Carga Crítica de Flambagem: 1398341.7112712332\n",
            "Razão entre Força Axial Efetiva e Carga Crítica de Flambagem: 0.06436195049790866\n",
            "\n",
            "Rigidez estática vertical do solo\n",
            "value_log: 2146.2921808836627\n",
            "beta: 3.3316888434025222\n",
            "Comprimento Efetivo: 57.40791693322816\n",
            "Carga Crítica de Flambagem: 1071589.7350489332\n",
            "Razão entre Força Axial Efetiva e Carga Crítica de Flambagem: 0.08398736667246093\n",
            "\n"
          ]
        }
      ],
      "source": [
        "import math\n",
        "def effetive_length(k: int, length: int, csf: int, stiffness: float):\n",
        "\n",
        "  if k == kv:\n",
        "    print('Rigidez dinâmica vertical do solo')\n",
        "\n",
        "  elif k == kl:\n",
        "    print('Rigidez dinâmica lateral do solo')\n",
        "\n",
        "  else:\n",
        "    print('Rigidez estática vertical do solo')\n",
        "\n",
        "  # Cálculo do logaritmo do valor adimensional que influencia o comprimento efetivo\n",
        "  value_log = k * (length ** 4) / ((1 + csf) * stiffness)\n",
        "  print('value_log: ' + str (value_log))\n",
        "\n",
        "  beta = math.log10(value_log)  # Cálculo do logaritmo de base 10 do valor obtido\n",
        "  print('beta: ' + str(beta))  # Exibe o valor de beta\n",
        "\n",
        "  # Cálculo da razão entre o comprimento efetivo e o comprimento total da tubulação\n",
        "  ratio_length_eff = 4.73 / ((-0.066 * (beta ** 2)) + (1.02 * beta) + 0.63)\n",
        "\n",
        "  # Cálculo do comprimento efetivo da tubulação\n",
        "  length_eff = ratio_length_eff * length\n",
        "\n",
        "  print('Comprimento Efetivo: ' + str(length_eff))  # Exibe o comprimento efetivo da tubulação\n",
        "\n",
        "  # Coeficiente de condição de contorno\n",
        "  c2 = 4\n",
        "\n",
        "  # Cálculo da carga crítica de flambagem (Pcr)\n",
        "  pcr = (1 + csf) * c2 * (pi_number ** 2) * stiffness / (length_eff ** 2)\n",
        "\n",
        "  print('Carga Crítica de Flambagem: ' + str(pcr))  # Exibe o valor da carga crítica de flambagem\n",
        "\n",
        "  # Razão entre uma carga específica (90000 N) e a carga crítica de flambagem\n",
        "  print('Razão entre Força Axial Efetiva e Carga Crítica de Flambagem: ' + str(effective_axial_force / pcr))  # Exibe a relação entre a carga axial efetiva e a carga crítica de flambagem\n",
        "  print('')\n",
        "\n",
        "  return length_eff, pcr\n",
        "\n",
        "length_eff_vertical_dynamic, pcr_vertical_dynamic = effetive_length(k=kv, length=length, csf=csf, stiffness=ei_steel)\n",
        "length_eff_lateral_dynamic, pcr_lateral_dynamic = effetive_length(k=kl, length=length, csf=csf, stiffness=ei_steel)\n",
        "length_eff_vertical_static, pcr_vertical_static = effetive_length(k=kvs, length=length, csf=csf, stiffness=ei_steel)\n"
      ]
    },
    {
      "cell_type": "markdown",
      "source": [
        "**Deflexão Estática**"
      ],
      "metadata": {
        "id": "sOb8vezbIarP"
      }
    },
    {
      "cell_type": "code",
      "source": [
        "# Coeficiente c2 de condição de contorno\n",
        "c6 = 1/384\n",
        "\n",
        "# Peso do tubo por unidade de comprimento\n",
        "pipe_weight =  specific_mass_steel * gravity * area_steel_pipe\n",
        "\n",
        "# Cálculo do Empuxo\n",
        "empuxo = specific_mass_water * gravity * area_water\n",
        "\n",
        "# Solicitacao Axial Efetiva\n",
        "seff = effective_axial_force\n",
        "\n",
        "# Peso Submerso por Unidade de Comprimento\n",
        "q = pipe_weight - empuxo\n",
        "\n",
        "# Cálculo da Deflexão Estática\n",
        "deflection = c6 * ((q * (length_eff_vertical_static**4))/(ei_steel * (1 + csf))) * (1 / (1 + seff/pcr_vertical_static))\n",
        "deflection_vertical_dynamic = c6 * ((q * (length_eff_vertical_dynamic**4))/(ei_steel * (1 + csf))) * (1 / (1 + seff/pcr_vertical_dynamic))\n",
        "\n",
        "print('Deflexão: ' + str(deflection))\n",
        "print('Razão entre deflexão e diâmetro: '+ str(deflection/diameter))"
      ],
      "metadata": {
        "colab": {
          "base_uri": "https://localhost:8080/"
        },
        "id": "mMvs4ttiIUrZ",
        "outputId": "6803cd51-060a-4bb3-a49c-9a5de25cbc2e"
      },
      "execution_count": 105,
      "outputs": [
        {
          "output_type": "stream",
          "name": "stdout",
          "text": [
            "Deflexão: 0.16702593585513886\n",
            "Razão entre deflexão e diâmetro: 0.41756483963784713\n"
          ]
        }
      ]
    },
    {
      "cell_type": "markdown",
      "source": [
        "**Amplitude máxima de tensão**"
      ],
      "metadata": {
        "id": "I_nyYxFuMG76"
      }
    },
    {
      "cell_type": "code",
      "source": [
        "# Coeficiente C4 de condição de contorno\n",
        "length_eff_list = [length_eff_vertical_dynamic, length_eff_lateral_dynamic, length_eff_vertical_static]\n",
        "\n",
        "for length_eff in length_eff_list:\n",
        "\n",
        "  c4_midspan = 8.6\n",
        "  c4_shouder = 14.1 * ((length/length_eff)**2)\n",
        "  c4 = [c4_midspan, c4_shouder]\n",
        "\n",
        "  if length_eff == length_eff_vertical_dynamic:\n",
        "    name_length_eff = 'Rigidez dinâmica vertical do solo'\n",
        "\n",
        "  elif length_eff == length_eff_lateral_dynamic:\n",
        "    name_length_eff = 'Rigidez dinâmica lateral do solo'\n",
        "\n",
        "  else:\n",
        "     name_length_eff ='Rigidez estática vertical do solo'\n",
        "\n",
        "  for c in c4:\n",
        "\n",
        "    if c == c4_midspan:\n",
        "      name_c = 'midspan'\n",
        "\n",
        "    else:\n",
        "      name_c = 'shouder'\n",
        "\n",
        "    radius_extern = diameter / 2\n",
        "    radius_intern = (diameter - 1*steel_thickness)/2\n",
        "    radius_list = [radius_extern, radius_intern]\n",
        "\n",
        "    for radius in radius_list:\n",
        "\n",
        "      if radius == radius_extern:\n",
        "        print(name_length_eff + ', ' + name_c + ', ' +' raio externo')\n",
        "\n",
        "      else:\n",
        "        print(name_length_eff + ', ' + name_c +', ' + 'raio interno')\n",
        "\n",
        "      amplitude_max_inline = 2 * c * (1 + csf) * diameter * young_modulus_steel * radius / (length_eff ** 2)\n",
        "      #amplitude_max_crossflow = 2 * c * (1 + csf) * diameter * young_modulus * radius / (length_eff ** 2)\n",
        "\n",
        "      print('Amplitude (MPa): ' + str(amplitude_max_inline/1000000))\n",
        "      #print('Amplitude cross-flow (MPa): ' + str(amplitude_max_crossflow/1000000))\n",
        "      print('')"
      ],
      "metadata": {
        "colab": {
          "base_uri": "https://localhost:8080/"
        },
        "id": "WhTmSd-Kj1d6",
        "outputId": "b896810b-3332-4043-fd1b-68fe06fe7188"
      },
      "execution_count": 106,
      "outputs": [
        {
          "output_type": "stream",
          "name": "stdout",
          "text": [
            "Rigidez dinâmica vertical do solo, midspan,  raio externo\n",
            "Amplitude (MPa): 117.61008567433946\n",
            "\n",
            "Rigidez dinâmica vertical do solo, midspan, raio interno\n",
            "Amplitude (MPa): 111.72958139062249\n",
            "\n",
            "Rigidez dinâmica vertical do solo, shouder,  raio externo\n",
            "Amplitude (MPa): 127.39166017261526\n",
            "\n",
            "Rigidez dinâmica vertical do solo, shouder, raio interno\n",
            "Amplitude (MPa): 121.02207716398449\n",
            "\n",
            "Rigidez dinâmica lateral do solo, midspan,  raio externo\n",
            "Amplitude (MPa): 112.77944934975642\n",
            "\n",
            "Rigidez dinâmica lateral do solo, midspan, raio interno\n",
            "Amplitude (MPa): 107.14047688226859\n",
            "\n",
            "Rigidez dinâmica lateral do solo, shouder,  raio externo\n",
            "Amplitude (MPa): 117.14177604714081\n",
            "\n",
            "Rigidez dinâmica lateral do solo, shouder, raio interno\n",
            "Amplitude (MPa): 111.28468724478375\n",
            "\n",
            "Rigidez estática vertical do solo, midspan,  raio externo\n",
            "Amplitude (MPa): 86.42615697832706\n",
            "\n",
            "Rigidez estática vertical do solo, midspan, raio interno\n",
            "Amplitude (MPa): 82.1048491294107\n",
            "\n",
            "Rigidez estática vertical do solo, shouder,  raio externo\n",
            "Amplitude (MPa): 68.79268634671195\n",
            "\n",
            "Rigidez estática vertical do solo, shouder, raio interno\n",
            "Amplitude (MPa): 65.35305202937634\n",
            "\n"
          ]
        }
      ]
    },
    {
      "cell_type": "code",
      "source": [
        "amplitude_tensao_crossflow = (127.391 + 114.652)/2\n",
        "print('amplitude_tensao_crossflow: '+ str(amplitude_tensao_crossflow))\n",
        "\n",
        "amplitude_tensao_inline = (117.141 + 105.427)/2\n",
        "print('amplitude_tensao_inline: '+ str(amplitude_tensao_inline))"
      ],
      "metadata": {
        "colab": {
          "base_uri": "https://localhost:8080/"
        },
        "id": "GnWTWCYC1efY",
        "outputId": "5f3ad209-61cb-4e2b-d842-5ddeb9497e61"
      },
      "execution_count": 107,
      "outputs": [
        {
          "output_type": "stream",
          "name": "stdout",
          "text": [
            "amplitude_tensao_crossflow: 121.0215\n",
            "amplitude_tensao_inline: 111.284\n"
          ]
        }
      ]
    },
    {
      "cell_type": "markdown",
      "source": [
        "**Frequência Natural Fundamental**"
      ],
      "metadata": {
        "id": "fhyv8sYaf3Fu"
      }
    },
    {
      "cell_type": "code",
      "source": [
        "# Boundary condition coefficients\n",
        "c1_inline, c1_crossflow = 3.56, 3.56\n",
        "c3_inline, c3_crossflow = 0, 0.4\n",
        "\n",
        "# Massa efetiva\n",
        "me = mass_effetive\n",
        "\n",
        "# Cálculo das Frequências\n",
        "f_inline = c1_inline * math.sqrt(1 + csf) * math.sqrt(ei_steel/(me * (length_eff_lateral_dynamic ** 4)) * (1 + (seff/pcr_lateral_dynamic) + c3_inline * (deflection/diameter) ** 2))\n",
        "f_crossflow = c1_crossflow * math.sqrt(1 + csf) * math.sqrt(ei_steel/(me * (length_eff_vertical_dynamic ** 4)) * (1 + (seff/pcr_vertical_dynamic) + c3_crossflow * (deflection/diameter) ** 2))\n",
        "\n",
        "print('Frequência na direção in-line (Hz) :'+ str(f_inline))\n",
        "print('Frequência na direção cross-flow (Hz) :'+ str(f_crossflow))"
      ],
      "metadata": {
        "colab": {
          "base_uri": "https://localhost:8080/"
        },
        "id": "YCJ4FZXZf1-1",
        "outputId": "0fa37a1f-74cb-4b77-ba1f-6384a9f97573"
      },
      "execution_count": 108,
      "outputs": [
        {
          "output_type": "stream",
          "name": "stdout",
          "text": [
            "Frequência na direção in-line (Hz) :0.773154239826187\n",
            "Frequência na direção cross-flow (Hz) :0.8312968979996561\n"
          ]
        }
      ]
    }
  ],
  "metadata": {
    "kernelspec": {
      "display_name": "env",
      "language": "python",
      "name": "python3"
    },
    "language_info": {
      "codemirror_mode": {
        "name": "ipython",
        "version": 3
      },
      "file_extension": ".py",
      "mimetype": "text/x-python",
      "name": "python",
      "nbconvert_exporter": "python",
      "pygments_lexer": "ipython3",
      "version": "3.12.3"
    },
    "colab": {
      "provenance": []
    }
  },
  "nbformat": 4,
  "nbformat_minor": 0
}